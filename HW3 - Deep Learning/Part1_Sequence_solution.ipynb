{
 "cells": [
  {
   "cell_type": "markdown",
   "metadata": {
    "id": "zQyoeSuKk1iY"
   },
   "source": [
    "$$\n",
    "\\newcommand{\\mat}[1]{\\boldsymbol {#1}}\n",
    "\\newcommand{\\mattr}[1]{\\boldsymbol {#1}^\\top}\n",
    "\\newcommand{\\matinv}[1]{\\boldsymbol {#1}^{-1}}\n",
    "\\newcommand{\\vec}[1]{\\boldsymbol {#1}}\n",
    "\\newcommand{\\vectr}[1]{\\boldsymbol {#1}^\\top}\n",
    "\\newcommand{\\rvar}[1]{\\mathrm {#1}}\n",
    "\\newcommand{\\rvec}[1]{\\boldsymbol{\\mathrm{#1}}}\n",
    "\\newcommand{\\diag}{\\mathop{\\mathrm {diag}}}\n",
    "\\newcommand{\\set}[1]{\\mathbb {#1}}\n",
    "\\newcommand{\\norm}[1]{\\left\\lVert#1\\right\\rVert}\n",
    "\\newcommand{\\pderiv}[2]{\\frac{\\partial #1}{\\partial #2}}\n",
    "\\newcommand{\\bb}[1]{\\boldsymbol{#1}}\n",
    "$$\n",
    "# Part 1: Sequence Models\n",
    "<a id=part1></a>"
   ]
  },
  {
   "cell_type": "markdown",
   "metadata": {
    "id": "xwVTuDTok1ia"
   },
   "source": [
    "In this part we will learn about working with text sequences using recurrent neural networks.\n",
    "We'll go from a raw text file all the way to a fully trained GRU-RNN model and generate works of art!"
   ]
  },
  {
   "cell_type": "code",
   "execution_count": 1,
   "metadata": {
    "colab": {
     "base_uri": "https://localhost:8080/"
    },
    "executionInfo": {
     "elapsed": 617,
     "status": "ok",
     "timestamp": 1718920212965,
     "user": {
      "displayName": "Dror Meirovich",
      "userId": "14310987058477987674"
     },
     "user_tz": -180
    },
    "id": "0m7ksuDQk1ia",
    "outputId": "d1f9a354-a453-4293-93f1-e67b21648256"
   },
   "outputs": [],
   "source": [
    "import unittest\n",
    "import os\n",
    "import sys\n",
    "import pathlib\n",
    "import urllib\n",
    "import shutil\n",
    "import re\n",
    "\n",
    "import numpy as np\n",
    "import torch\n",
    "import matplotlib.pyplot as plt\n",
    "\n",
    "%load_ext autoreload\n",
    "%autoreload 2"
   ]
  },
  {
   "cell_type": "code",
   "execution_count": 2,
   "metadata": {
    "colab": {
     "base_uri": "https://localhost:8080/"
    },
    "executionInfo": {
     "elapsed": 2,
     "status": "ok",
     "timestamp": 1718920213415,
     "user": {
      "displayName": "Dror Meirovich",
      "userId": "14310987058477987674"
     },
     "user_tz": -180
    },
    "id": "e4y4eObSk1ib",
    "outputId": "9efceccf-0a0e-4094-8591-5f79498ec851"
   },
   "outputs": [
    {
     "name": "stdout",
     "output_type": "stream",
     "text": [
      "Using device: cpu\n"
     ]
    }
   ],
   "source": [
    "test = unittest.TestCase()\n",
    "plt.rcParams.update({'font.size': 12})\n",
    "device = torch.device('cuda' if torch.cuda.is_available() else 'cpu')\n",
    "print('Using device:', device)"
   ]
  },
  {
   "cell_type": "markdown",
   "metadata": {
    "id": "s3R11_41lSts"
   },
   "source": [
    "### Porting to Google Colab\n",
    "The following cell enables this notebook to run from Google Colab as well as from your local machine IDE.<br>\n",
    "You can change `root_directory` and/or `this_notebook_google_path` to point to the directory in your Google account, which contains this notebook, together with the `imgs` sub-directory and the rest of the files.<br>"
   ]
  },
  {
   "cell_type": "code",
   "execution_count": 3,
   "metadata": {
    "colab": {
     "base_uri": "https://localhost:8080/"
    },
    "executionInfo": {
     "elapsed": 2379,
     "status": "ok",
     "timestamp": 1718920215793,
     "user": {
      "displayName": "Dror Meirovich",
      "userId": "14310987058477987674"
     },
     "user_tz": -180
    },
    "id": "M_uSomotlWpR",
    "outputId": "6acdb885-8201-41ad-bd58-8bcce992b284"
   },
   "outputs": [],
   "source": [
    "import sys\n",
    "import os\n",
    "try:\n",
    "    from google.colab import drive\n",
    "    root_directory = '/content/gdrive/'\n",
    "    this_notebook_google_path = root_directory + 'Othercomputers/My Laptop/projects/RUNI/DL_TA/hw3'\n",
    "    drive.mount(root_directory)\n",
    "    # enable import python files from this notebook's path\n",
    "    sys.path.append(this_notebook_google_path)\n",
    "    # enable reading images and data files from this notebook's path\n",
    "    os.chdir(this_notebook_google_path)\n",
    "except:\n",
    "    # no Google Colab --> fall back to local machine\n",
    "    pass"
   ]
  },
  {
   "cell_type": "code",
   "execution_count": 4,
   "metadata": {
    "colab": {
     "base_uri": "https://localhost:8080/"
    },
    "executionInfo": {
     "elapsed": 5295,
     "status": "ok",
     "timestamp": 1718920221086,
     "user": {
      "displayName": "Dror Meirovich",
      "userId": "14310987058477987674"
     },
     "user_tz": -180
    },
    "id": "mGyPbOfqliBD",
    "outputId": "7a27a511-a7b6-4427-f7a1-1e51cfbe2317"
   },
   "outputs": [
    {
     "name": "stdout",
     "output_type": "stream",
     "text": [
      "Requirement already satisfied: pillow in c:\\users\\benka\\anaconda3\\lib\\site-packages (9.0.1)\n",
      "Requirement already satisfied: pillow-avif-plugin in c:\\users\\benka\\anaconda3\\lib\\site-packages (1.4.6)\n"
     ]
    }
   ],
   "source": [
    "!pip install pillow pillow-avif-plugin\n",
    "\n",
    "import matplotlib.image as mpimg\n",
    "from IPython import display\n",
    "import PIL\n",
    "import io\n",
    "\n",
    "\"\"\"\n",
    "The import of pillow_avif is necessary because it registers the AVIF format\n",
    "with the Pillow library. This registration process occurs automatically when\n",
    "pillow_avif is imported, enabling Pillow to recognize and handle AVIF images.\n",
    "Without this import, Pillow won't be able to identify the AVIF format,\n",
    "leading to the UnidentifiedImageError.\n",
    "To clarify, you don't use pillow_avif directly in your code, but importing it\n",
    "ensures that the AVIF support is correctly set up.\n",
    "\"\"\"\n",
    "import pillow_avif\n",
    "\n",
    "def show_single_image(file_name: str, resize: float = 1.0) -> None:\n",
    "    file_name_lower = file_name.lower()\n",
    "    if file_name_lower.endswith('.gif'):\n",
    "        if not os.path.isfile(file_name):\n",
    "            print('Current directory is:',os.getcwd())\n",
    "            print('Containing the following files:')\n",
    "            for subdir, dirs, files in os.walk('./'):\n",
    "                for file in files:\n",
    "                    print(file)\n",
    "            assert False, f'File not found: {file_name}'\n",
    "        with open(file_name, 'rb') as f:\n",
    "            img_data = f.read()\n",
    "        img = display.Image(data=img_data, format='png')\n",
    "        display.display(img)\n",
    "    elif file_name_lower.endswith('.svg'):\n",
    "        img = display.SVG(filename=file_name)\n",
    "        display.display(img)\n",
    "    elif file_name_lower.endswith('.avif') or file_name_lower.endswith('.png'):\n",
    "        with open(file_name, 'rb') as f:\n",
    "            img_data = f.read()\n",
    "        img = PIL.Image.open(io.BytesIO(img_data))\n",
    "        img = img.resize((img.width * resize, img.height * resize))\n",
    "        display.display(img)\n",
    "    else:\n",
    "        image1 = mpimg.imread(file_name)\n",
    "        fig, ax = plt.subplots()\n",
    "        ax.set_title(file_name)\n",
    "        plt.imshow(image1)\n",
    "        plt.axis('off')  # Turn off axis\n",
    "        plt.show()"
   ]
  },
  {
   "cell_type": "markdown",
   "metadata": {
    "id": "DGb1gkeVk1ib"
   },
   "source": [
    "## Text generation with a char-level RNN\n",
    "<a id=part1_1></a>"
   ]
  },
  {
   "cell_type": "markdown",
   "metadata": {
    "id": "kiGFXyybk1ib"
   },
   "source": [
    "### Obtaining the corpus\n",
    "<a id=part1_2></a>"
   ]
  },
  {
   "cell_type": "markdown",
   "metadata": {
    "id": "_SZNfKsCk1ib"
   },
   "source": [
    "Let's begin by downloading a corpus containing all the works of William Shakespeare.\n",
    "Since he was very prolific, this corpus is fairly large and will provide us with enough data for\n",
    "obtaining impressive results."
   ]
  },
  {
   "cell_type": "code",
   "execution_count": 5,
   "metadata": {
    "colab": {
     "base_uri": "https://localhost:8080/"
    },
    "executionInfo": {
     "elapsed": 1321,
     "status": "ok",
     "timestamp": 1718920222400,
     "user": {
      "displayName": "Dror Meirovich",
      "userId": "14310987058477987674"
     },
     "user_tz": -180
    },
    "id": "HCqLIySNk1ib",
    "outputId": "9b6bdabd-3191-4ca2-9e5c-637ba4437ac3"
   },
   "outputs": [
    {
     "name": "stdout",
     "output_type": "stream",
     "text": [
      "Corpus file C:\\Users\\benka\\.pytorch-datasets\\shakespeare.txt exists, skipping download.\n"
     ]
    }
   ],
   "source": [
    "CORPUS_URL = 'https://github.com/cedricdeboom/character-level-rnn-datasets/raw/master/datasets/shakespeare.txt'\n",
    "DATA_DIR = pathlib.Path.home().joinpath('.pytorch-datasets')\n",
    "\n",
    "def download_corpus(out_path=DATA_DIR, url=CORPUS_URL, force=False):\n",
    "    pathlib.Path(out_path).mkdir(exist_ok=True)\n",
    "    out_filename = os.path.join(out_path, os.path.basename(url))\n",
    "\n",
    "    if os.path.isfile(out_filename) and not force:\n",
    "        print(f'Corpus file {out_filename} exists, skipping download.')\n",
    "    else:\n",
    "        print(f'Downloading {url}...')\n",
    "        with urllib.request.urlopen(url) as response, open(out_filename, 'wb') as out_file:\n",
    "            shutil.copyfileobj(response, out_file)\n",
    "        print(f'Saved to {out_filename}.')\n",
    "    return out_filename\n",
    "\n",
    "corpus_path = download_corpus()"
   ]
  },
  {
   "cell_type": "markdown",
   "metadata": {
    "id": "AXKolvFNk1ic"
   },
   "source": [
    "Load the text into memory and print a snippet:"
   ]
  },
  {
   "cell_type": "code",
   "execution_count": 6,
   "metadata": {
    "colab": {
     "base_uri": "https://localhost:8080/"
    },
    "executionInfo": {
     "elapsed": 4,
     "status": "ok",
     "timestamp": 1718920222400,
     "user": {
      "displayName": "Dror Meirovich",
      "userId": "14310987058477987674"
     },
     "user_tz": -180
    },
    "id": "aK3PJcQkk1ic",
    "outputId": "16223ee0-d8ca-47aa-e4a7-87e970cc4fea"
   },
   "outputs": [
    {
     "name": "stdout",
     "output_type": "stream",
     "text": [
      "Corpus length: 6347703 chars\n",
      "ALLS WELL THAT ENDS WELL\n",
      "\n",
      "by William Shakespeare\n",
      "\n",
      "Dramatis Personae\n",
      "\n",
      "  KING OF FRANCE\n",
      "  THE DUKE OF FLORENCE\n",
      "  BERTRAM, Count of Rousillon\n",
      "  LAFEU, an old lord\n",
      "  PAROLLES, a follower of Bertram\n",
      "  TWO FRENCH LORDS, serving with Bertram\n",
      "\n",
      "  STEWARD, Servant to the Countess of Rousillon\n",
      "  LAVACHE, a clown and Servant to the Countess of Rousillon\n",
      "  A PAGE, Servant to the Countess of Rousillon\n",
      "\n",
      "  COUNTESS OF ROUSILLON, mother to Bertram\n",
      "  HELENA, a gentlewoman protected by the Countess\n",
      "  A WIDOW OF FLORENCE.\n",
      "  DIANA, daughter to the Widow\n",
      "\n",
      "  VIOLENTA, neighbour and friend to the Widow\n",
      "  MARIANA, neighbour and friend to the Widow\n",
      "\n",
      "  Lords, Officers, Soldiers, etc., French and Florentine  \n",
      "\n",
      "SCENE:\n",
      "Rousillon; Paris; Florence; Marseilles\n",
      "\n",
      "ACT I. SCENE 1.\n",
      "Rousillon. The COUNT'S palace\n",
      "\n",
      "Enter BERTRAM, the COUNTESS OF ROUSILLON, HELENA, and LAFEU, all in black\n",
      "\n",
      "  COUNTESS. In delivering my son from me, I bury a second husband.\n",
      "  BERTRAM. And I in going, madam, weep o'er my father's death anew;\n",
      "    but I must attend his Majesty's command, to whom I am now in\n",
      "    ward, evermore in subjection.\n",
      "  LAFEU. You shall find of the King a husband, madam; you, sir, a\n",
      "    father. He that so generally is at all times good must of\n",
      "    \n"
     ]
    }
   ],
   "source": [
    "with open(corpus_path, 'r', encoding='utf-8') as f:\n",
    "    corpus = f.read()\n",
    "\n",
    "print(f'Corpus length: {len(corpus)} chars')\n",
    "print(corpus[7:1234])"
   ]
  },
  {
   "cell_type": "markdown",
   "metadata": {
    "id": "cEPklPTCk1ic"
   },
   "source": [
    "### Data Preprocessing\n",
    "<a id=part1_3></a>"
   ]
  },
  {
   "cell_type": "markdown",
   "metadata": {
    "id": "RdjS39C0k1ic"
   },
   "source": [
    "The first thing we'll need is to map from each unique character in the corpus to an index that will represent it in our learning process.\n",
    "\n",
    "**TODO**: Implement the `char_maps()` function in the `hw3/charnn.py` module."
   ]
  },
  {
   "cell_type": "code",
   "execution_count": 7,
   "metadata": {
    "colab": {
     "base_uri": "https://localhost:8080/",
     "height": 348
    },
    "executionInfo": {
     "elapsed": 494,
     "status": "error",
     "timestamp": 1718920448847,
     "user": {
      "displayName": "Dror Meirovich",
      "userId": "14310987058477987674"
     },
     "user_tz": -180
    },
    "id": "UzvXAMxwk1ic",
    "outputId": "e8dd7685-be05-4691-99be-af8597ffacf7"
   },
   "outputs": [
    {
     "name": "stdout",
     "output_type": "stream",
     "text": [
      "{'p': 0, 'z': 1, '2': 2, 'm': 3, '<': 4, 'L': 5, '7': 6, 'Q': 7, 'j': 8, 'X': 9, '4': 10, 'i': 11, 't': 12, 'S': 13, '&': 14, 'V': 15, '9': 16, '$': 17, ';': 18, ':': 19, '?': 20, '0': 21, 'r': 22, '8': 23, 'R': 24, 'q': 25, 'v': 26, 'u': 27, '.': 28, '}': 29, '1': 30, 'd': 31, \"'\": 32, 'A': 33, '\"': 34, 'Y': 35, 'C': 36, '5': 37, 'c': 38, 'Z': 39, 'B': 40, 'M': 41, 'G': 42, 'o': 43, ',': 44, '!': 45, '\\n': 46, '3': 47, 'a': 48, 'N': 49, 'U': 50, 'h': 51, 'D': 52, 'I': 53, 'k': 54, 'F': 55, 'n': 56, 's': 57, '[': 58, 'T': 59, 'O': 60, '_': 61, ']': 62, ')': 63, '-': 64, 'f': 65, 'P': 66, '\\ufeff': 67, '(': 68, 'l': 69, 'e': 70, 'x': 71, 'b': 72, ' ': 73, 'H': 74, 'y': 75, 'g': 76, 'J': 77, 'w': 78, 'K': 79, 'W': 80, 'E': 81, '6': 82}\n"
     ]
    }
   ],
   "source": [
    "import hw3.charnn as charnn\n",
    "char_to_idx = None\n",
    "idx_to_char = None\n",
    "char_to_idx, idx_to_char = charnn.char_maps(corpus)\n",
    "print(char_to_idx)\n",
    "\n",
    "test.assertEqual(len(char_to_idx), len(idx_to_char))\n",
    "test.assertSequenceEqual(list(char_to_idx.keys()), list(idx_to_char.values()))\n",
    "test.assertSequenceEqual(list(char_to_idx.values()), list(idx_to_char.keys()))"
   ]
  },
  {
   "cell_type": "markdown",
   "metadata": {
    "id": "DVDmFS4Ok1id"
   },
   "source": [
    "Seems we have some strange characters in the corpus that are very rare and are probably due to mistakes.\n",
    "To reduce the length of each tensor we'll need to later represent our chars, it's best to remove them.\n",
    "\n",
    "**TODO**: Implement the `remove_chars()` function in the `hw3/charnn.py` module."
   ]
  },
  {
   "cell_type": "code",
   "execution_count": 8,
   "metadata": {
    "colab": {
     "base_uri": "https://localhost:8080/",
     "height": 348
    },
    "executionInfo": {
     "elapsed": 600,
     "status": "error",
     "timestamp": 1718920456349,
     "user": {
      "displayName": "Dror Meirovich",
      "userId": "14310987058477987674"
     },
     "user_tz": -180
    },
    "id": "UFWDF41Ik1id",
    "outputId": "54e9e9bf-61f8-4db0-f8eb-855d8da085aa"
   },
   "outputs": [
    {
     "name": "stdout",
     "output_type": "stream",
     "text": [
      "Removed 34 chars\n"
     ]
    }
   ],
   "source": [
    "corpus, n_removed = charnn.remove_chars(corpus, ['}','$','_','<','\\ufeff'])\n",
    "print(f'Removed {n_removed} chars')\n",
    "\n",
    "# After removing the chars, re-create the mappings\n",
    "char_to_idx, idx_to_char = charnn.char_maps(corpus)"
   ]
  },
  {
   "cell_type": "markdown",
   "metadata": {
    "id": "s7b_KCTak1id"
   },
   "source": [
    "The next thing we need is an **embedding** of the chracters.\n",
    "An embedding is a representation of each token from the sequence as a tensor.\n",
    "For a char-level RNN, our tokens will be chars and we can thus use the simplest possible embedding: encode each char as a **one-hot** tensor. In other words, each char will be represented\n",
    "as a tensor whos length is the total number of unique chars (`V`) which contains all zeros except at the index\n",
    "corresponding to that specific char.\n",
    "\n",
    "**TODO**: Implement the functions `chars_to_onehot()` and `onehot_to_chars()` in the `hw3/charnn.py` module."
   ]
  },
  {
   "cell_type": "code",
   "execution_count": 9,
   "metadata": {
    "colab": {
     "base_uri": "https://localhost:8080/",
     "height": 408
    },
    "executionInfo": {
     "elapsed": 470,
     "status": "error",
     "timestamp": 1718920464541,
     "user": {
      "displayName": "Dror Meirovich",
      "userId": "14310987058477987674"
     },
     "user_tz": -180
    },
    "id": "mrmFxbp2k1id",
    "outputId": "a1b10bc7-5c1b-4735-ad09-c448b78e94ec"
   },
   "outputs": [
    {
     "name": "stdout",
     "output_type": "stream",
     "text": [
      "brine a maiden can season her praise in.\n",
      "   \n",
      "tensor([[0, 0, 0, 0, 0, 0, 0, 0, 0, 0, 0, 0, 0, 0, 0, 0, 0, 0, 0, 0, 0, 0, 0, 0,\n",
      "         0, 0, 0, 0, 0, 0, 0, 0, 0, 0, 0, 0, 0, 0, 0, 0, 0, 0, 0, 0, 0, 0, 0, 0,\n",
      "         0, 0, 0, 0, 0, 0, 0, 0, 0, 0, 0, 0, 0, 0, 0, 0, 0, 0, 0, 1, 0, 0, 0, 0,\n",
      "         0, 0, 0, 0, 0, 0],\n",
      "        [0, 0, 0, 0, 0, 0, 0, 0, 0, 0, 0, 0, 0, 0, 0, 0, 0, 0, 0, 0, 1, 0, 0, 0,\n",
      "         0, 0, 0, 0, 0, 0, 0, 0, 0, 0, 0, 0, 0, 0, 0, 0, 0, 0, 0, 0, 0, 0, 0, 0,\n",
      "         0, 0, 0, 0, 0, 0, 0, 0, 0, 0, 0, 0, 0, 0, 0, 0, 0, 0, 0, 0, 0, 0, 0, 0,\n",
      "         0, 0, 0, 0, 0, 0],\n",
      "        [0, 0, 0, 0, 0, 0, 0, 0, 0, 0, 1, 0, 0, 0, 0, 0, 0, 0, 0, 0, 0, 0, 0, 0,\n",
      "         0, 0, 0, 0, 0, 0, 0, 0, 0, 0, 0, 0, 0, 0, 0, 0, 0, 0, 0, 0, 0, 0, 0, 0,\n",
      "         0, 0, 0, 0, 0, 0, 0, 0, 0, 0, 0, 0, 0, 0, 0, 0, 0, 0, 0, 0, 0, 0, 0, 0,\n",
      "         0, 0, 0, 0, 0, 0]], dtype=torch.int8)\n"
     ]
    }
   ],
   "source": [
    "# Wrap the actual embedding functions for calling convenience\n",
    "def embed(text):\n",
    "    return charnn.chars_to_onehot(text, char_to_idx)\n",
    "\n",
    "def unembed(embedding):\n",
    "    return charnn.onehot_to_chars(embedding, idx_to_char)\n",
    "\n",
    "text_snippet = corpus[3104:3148]\n",
    "print(text_snippet)\n",
    "print(embed(text_snippet[0:3]))\n",
    "\n",
    "test.assertEqual(text_snippet, unembed(embed(text_snippet)))\n",
    "test.assertEqual(embed(text_snippet).dtype, torch.int8)"
   ]
  },
  {
   "cell_type": "markdown",
   "metadata": {
    "id": "JXnPjCm6k1id"
   },
   "source": [
    "### Dataset Creation\n",
    "<a id=part1_4></a>"
   ]
  },
  {
   "cell_type": "markdown",
   "metadata": {
    "id": "7c0y4Kuyk1id"
   },
   "source": [
    "We wish to train our model to generate text by constantly predicting what the next char should be based on the past.\n",
    "To that end we'll need to train our recurrent network in a way similar to a classification task. At each timestep, we input a char and set the expected output (label) to be the next char in the original sequence.\n",
    "\n",
    "We will split our corpus into shorter sequences of length `S` chars (see question below).\n",
    "Each **sample** we provide our model with will therefore be a tensor of shape `(S,V)` where `V` is the embedding dimension. Our model will operate sequentially on each char in the sequence.\n",
    "For each sample, we'll also need a **label**. This is simply another sequence, shifted by one char so that the label of each char is the next char in the corpus."
   ]
  },
  {
   "cell_type": "markdown",
   "metadata": {
    "id": "Yng3e8jVk1id"
   },
   "source": [
    "**TODO**: Implement the `chars_to_labelled_samples()` function in the `hw3/charnn.py` module."
   ]
  },
  {
   "cell_type": "code",
   "execution_count": 10,
   "metadata": {
    "colab": {
     "base_uri": "https://localhost:8080/",
     "height": 220
    },
    "executionInfo": {
     "elapsed": 482,
     "status": "error",
     "timestamp": 1718920663929,
     "user": {
      "displayName": "Dror Meirovich",
      "userId": "14310987058477987674"
     },
     "user_tz": -180
    },
    "id": "1NGUubrek1id",
    "outputId": "c752b003-07fb-4175-cc5a-aa352cb4fb45"
   },
   "outputs": [
    {
     "name": "stdout",
     "output_type": "stream",
     "text": [
      "samples shape: torch.Size([99182, 64, 78])\n",
      "labels shape: torch.Size([99182, 64])\n"
     ]
    }
   ],
   "source": [
    "samples = None\n",
    "labels = None\n",
    "num_samples = None\n",
    "vocab_len = None\n",
    "# Create dataset of sequences\n",
    "seq_len = 64\n",
    "vocab_len = len(char_to_idx)\n",
    "\n",
    "# Create labelled samples\n",
    "samples, labels = charnn.chars_to_labelled_samples(corpus, char_to_idx, seq_len, device)\n",
    "print(f'samples shape: {samples.shape}')\n",
    "print(f'labels shape: {labels.shape}')\n",
    "\n",
    "# Test shapes\n",
    "num_samples = (len(corpus) - 1) // seq_len\n",
    "test.assertEqual(samples.shape, (num_samples, seq_len, vocab_len))\n",
    "test.assertEqual(labels.shape, (num_samples, seq_len))\n",
    "\n",
    "# Test content\n",
    "for _ in range(1000):\n",
    "    # random sample\n",
    "    i = np.random.randint(num_samples, size=(1,))[0]\n",
    "    # Compare to corpus\n",
    "    test.assertEqual(unembed(samples[i]), corpus[i*seq_len:(i+1)*seq_len], msg=f\"content mismatch in sample {i}\")\n",
    "    # Compare to labels\n",
    "    sample_text = unembed(samples[i])\n",
    "    label_text = str.join('', [idx_to_char[j.item()] for j in labels[i]])\n",
    "    test.assertEqual(sample_text[1:], label_text[0:-1], msg=f\"label mismatch in sample {i}\")"
   ]
  },
  {
   "cell_type": "markdown",
   "metadata": {
    "id": "0IX3aVaFk1id"
   },
   "source": [
    "Let's print a few consecutive samples. You should see that the text continues between them."
   ]
  },
  {
   "cell_type": "code",
   "execution_count": 11,
   "metadata": {
    "colab": {
     "base_uri": "https://localhost:8080/",
     "height": 220
    },
    "executionInfo": {
     "elapsed": 467,
     "status": "error",
     "timestamp": 1718920531587,
     "user": {
      "displayName": "Dror Meirovich",
      "userId": "14310987058477987674"
     },
     "user_tz": -180
    },
    "id": "CiGVg99Ik1ie",
    "outputId": "bda3da58-4ac5-466d-c4b0-ad794f5deae9"
   },
   "outputs": [
    {
     "name": "stdout",
     "output_type": "stream",
     "text": [
      "sample [21865]:\n",
      "\t\" BARDOLPH, \" \" \" \" \" PISTOL, \" \"\n",
      "sample [21866]:\n",
      "\t\" \" \" BOY A HERALD\n",
      "sample [21867]:\n",
      "\tCHARLES THE SIXTH, King of France LEWIS, the Dauphin\n",
      "sample [21868]:\n",
      "\tDUKE OF BURGUNDY DUKE OF ORLEANS DUKE\n",
      "sample [21869]:\n",
      "\tOF BRITAINE DUKE OF BOURBON THE CONSTABLE OF\n"
     ]
    }
   ],
   "source": [
    "import re\n",
    "import random\n",
    "\n",
    "i = random.randrange(num_samples-5)\n",
    "for i in range(i, i+5):\n",
    "    test.assertEqual(len(samples[i]), seq_len)\n",
    "    s = re.sub(r'\\s+', ' ', unembed(samples[i])).strip()\n",
    "    print(f'sample [{i}]:\\n\\t{s}')"
   ]
  },
  {
   "cell_type": "markdown",
   "metadata": {
    "id": "AJP0eYVhk1ie"
   },
   "source": [
    "As usual, instead of feeding one sample at a time into our model's forward we'll work with **batches** of samples. This means that at every timestep, our model will operate on a batch of chars that are from **different sequences**.\n",
    "Effectively this will allow us to parallelize training our model by dong matrix-matrix multiplications\n",
    "instead of matrix-vector during the forward pass."
   ]
  },
  {
   "cell_type": "markdown",
   "metadata": {
    "id": "a7Fipph4mrCl"
   },
   "source": [
    "An important nuance is that we need the batches to be **contiguous**, i.e. sample $k$ in batch $j$ should continue sample $k$ from batch $j-1$.\n",
    "The following figure illustrates this:\n"
   ]
  },
  {
   "cell_type": "code",
   "execution_count": 12,
   "metadata": {
    "colab": {
     "base_uri": "https://localhost:8080/",
     "height": 168
    },
    "executionInfo": {
     "elapsed": 544,
     "status": "ok",
     "timestamp": 1718920291510,
     "user": {
      "displayName": "Dror Meirovich",
      "userId": "14310987058477987674"
     },
     "user_tz": -180
    },
    "id": "UhiiOZPemj_w",
    "outputId": "a39ef248-b274-47eb-b65a-0ed262d91d0c"
   },
   "outputs": [
    {
     "data": {
      "image/png": "[encoded data removed]",
      "text/plain": [
       "<PIL.Image.Image image mode=RGBA size=589x151 at 0x1CF68F5E760>"
      ]
     },
     "metadata": {},
     "output_type": "display_data"
    }
   ],
   "source": [
    "show_single_image('imgs/rnn-batching.png')"
   ]
  },
  {
   "cell_type": "markdown",
   "metadata": {
    "id": "B6WHR82kk1ie"
   },
   "source": [
    "If we naïvely take consecutive samples into batches, e.g. `[0,1,...,B-1]`, `[B,B+1,...,2B-1]` and so on, we won't have contiguous\n",
    "sequences at the same index between adjacent batches.\n",
    "\n",
    "To accomplish this we need to tell our `DataLoader` which samples to combine together into one batch.\n",
    "We do this by implementing a custom PyTorch `Sampler`, and providing it to our `DataLoader`."
   ]
  },
  {
   "cell_type": "markdown",
   "metadata": {
    "id": "M1MZdtxCk1ie"
   },
   "source": [
    "**TODO**: Implement the `SequenceBatchSampler` class in the `hw3/charnn.py` module."
   ]
  },
  {
   "cell_type": "code",
   "execution_count": 13,
   "metadata": {
    "colab": {
     "base_uri": "https://localhost:8080/",
     "height": 348
    },
    "executionInfo": {
     "elapsed": 469,
     "status": "error",
     "timestamp": 1718920542879,
     "user": {
      "displayName": "Dror Meirovich",
      "userId": "14310987058477987674"
     },
     "user_tz": -180
    },
    "id": "Qk0m747Sk1ie",
    "outputId": "1387ec3b-983a-4a11-d0a8-782ec123a020"
   },
   "outputs": [
    {
     "name": "stdout",
     "output_type": "stream",
     "text": [
      "sampler_idx =\n",
      " [0, 3, 6, 9, 12, 15, 18, 21, 24, 27, 1, 4, 7, 10, 13, 16, 19, 22, 25, 28, 2, 5, 8, 11, 14, 17, 20, 23, 26, 29]\n"
     ]
    }
   ],
   "source": [
    "from hw3.charnn import SequenceBatchSampler\n",
    "\n",
    "sampler = SequenceBatchSampler(dataset=range(32), batch_size=10)\n",
    "sampler_idx = list(sampler)\n",
    "print('sampler_idx =\\n', sampler_idx)\n",
    "\n",
    "# Test the Sampler\n",
    "test.assertEqual(len(sampler_idx), 30)\n",
    "batch_idx = np.array(sampler_idx).reshape(-1, 10)\n",
    "for k in range(10):\n",
    "    test.assertEqual(np.diff(batch_idx[:, k], n=2).item(), 0)"
   ]
  },
  {
   "cell_type": "markdown",
   "metadata": {
    "id": "Sne3M8ZCk1ie"
   },
   "source": [
    "Even though we're working with sequences, we can still use the standard PyTorch `Dataset`/`DataLoader` combo.\n",
    "For the dataset we can use a built-in class, `TensorDataset` to return tuples of `(sample, label)`\n",
    "from the `samples` and `labels` tensors we created above.\n",
    "The `DataLoader` will be provided with our custom `Sampler` so that it generates appropriate batches."
   ]
  },
  {
   "cell_type": "code",
   "execution_count": 14,
   "metadata": {
    "colab": {
     "base_uri": "https://localhost:8080/",
     "height": 372
    },
    "executionInfo": {
     "elapsed": 469,
     "status": "error",
     "timestamp": 1718920877286,
     "user": {
      "displayName": "Dror Meirovich",
      "userId": "14310987058477987674"
     },
     "user_tz": -180
    },
    "id": "061VpB2Hk1ie",
    "outputId": "0c4d2a14-a820-45a4-a414-90588242d3a6"
   },
   "outputs": [],
   "source": [
    "import torch.utils.data\n",
    "dl_corpus = None\n",
    "ds_corpus = None\n",
    "\n",
    "# Create DataLoader returning batches of samples.\n",
    "batch_size = 32\n",
    "ds_corpus = torch.utils.data.TensorDataset(samples, labels)\n",
    "sampler_corpus = SequenceBatchSampler(ds_corpus, batch_size)\n",
    "dl_corpus = torch.utils.data.DataLoader(ds_corpus, batch_size=batch_size, sampler=sampler_corpus, shuffle=False)"
   ]
  },
  {
   "cell_type": "markdown",
   "metadata": {
    "id": "UwiWKPm5k1ie"
   },
   "source": [
    "Let's see what that gives us:"
   ]
  },
  {
   "cell_type": "code",
   "execution_count": 15,
   "metadata": {
    "colab": {
     "base_uri": "https://localhost:8080/",
     "height": 220
    },
    "executionInfo": {
     "elapsed": 472,
     "status": "error",
     "timestamp": 1718920589213,
     "user": {
      "displayName": "Dror Meirovich",
      "userId": "14310987058477987674"
     },
     "user_tz": -180
    },
    "id": "Yj_6g-rnk1ie",
    "outputId": "07cce886-a0f9-459d-8ad5-98593c99b9ed"
   },
   "outputs": [
    {
     "name": "stdout",
     "output_type": "stream",
     "text": [
      "num batches: 3100\n",
      "shape of a batch of samples: torch.Size([32, 64, 78])\n",
      "shape of a batch of labels: torch.Size([32, 64])\n"
     ]
    }
   ],
   "source": [
    "print(f'num batches: {len(dl_corpus)}')\n",
    "\n",
    "x0, y0 = next(iter(dl_corpus))\n",
    "print(f'shape of a batch of samples: {x0.shape}')\n",
    "print(f'shape of a batch of labels: {y0.shape}')"
   ]
  },
  {
   "cell_type": "markdown",
   "metadata": {
    "id": "BUiaDjauk1if"
   },
   "source": [
    "Now lets look at the same sample index from multiple batches taken from our corpus."
   ]
  },
  {
   "cell_type": "code",
   "execution_count": 16,
   "metadata": {
    "colab": {
     "base_uri": "https://localhost:8080/",
     "height": 220
    },
    "executionInfo": {
     "elapsed": 482,
     "status": "error",
     "timestamp": 1718920595369,
     "user": {
      "displayName": "Dror Meirovich",
      "userId": "14310987058477987674"
     },
     "user_tz": -180
    },
    "id": "VvRLxeGok1if",
    "outputId": "80153797-ef5a-488c-c228-e4d3c30be8d8"
   },
   "outputs": [
    {
     "name": "stdout",
     "output_type": "stream",
     "text": [
      "=== batch 0, sample 28 (torch.Size([64, 78])): ===\n",
      "\tious villain. Besides I say and will in battle prove, Or here or\n",
      "=== batch 1, sample 28 (torch.Size([64, 78])): ===\n",
      "\telsewhere to the furthest verge That ever was survey'd by Engli\n",
      "=== batch 2, sample 28 (torch.Size([64, 78])): ===\n",
      "\tsh eye, That all the treasons for these eighteen years Complotte\n",
      "=== batch 3, sample 28 (torch.Size([64, 78])): ===\n",
      "\td and contrived in this land Fetch from false Mowbray their firs\n",
      "=== batch 4, sample 28 (torch.Size([64, 78])): ===\n",
      "\tt head and spring. Further I say and further will maintain Upon\n"
     ]
    }
   ],
   "source": [
    "# Check that sentences in in same index of different batches complete each other.\n",
    "k = random.randrange(batch_size)\n",
    "for j, (X, y) in enumerate(dl_corpus,):\n",
    "    print(f'=== batch {j}, sample {k} ({X[k].shape}): ===')\n",
    "    s = re.sub(r'\\s+', ' ', unembed(X[k])).strip()\n",
    "    print(f'\\t{s}')\n",
    "    if j==4: break"
   ]
  },
  {
   "cell_type": "markdown",
   "metadata": {
    "id": "ouCLcNKgk1if"
   },
   "source": [
    "### Model Implementation\n",
    "<a id=part1_5></a>"
   ]
  },
  {
   "cell_type": "markdown",
   "metadata": {
    "id": "8eP0250Uk1if"
   },
   "source": [
    "Finally, our data set is ready so we can focus on our model.\n",
    "\n",
    "We'll implement here is a multilayer gated recurrent unit (GRU) model, with dropout.\n",
    "This model is a type of RNN which performs similar to the well-known LSTM model,\n",
    "but it's somewhat easier to train because it has less parameters.\n",
    "We'll modify the regular GRU slightly by applying dropout to\n",
    "the hidden states passed between layers of the model.\n",
    "\n",
    "The model accepts an input $\\mat{X}\\in\\set{R}^{S\\times V}$ containing a sequence of embedded chars.\n",
    "It returns an output $\\mat{Y}\\in\\set{R}^{S\\times V}$ of predictions for the next char and the final hidden state\n",
    "$\\mat{H}\\in\\set{R}^{L\\times H}$. Here $S$ is the sequence length, $V$ is the vocabulary size (number of unique chars), $L$ is the number of layers in the model and $H$ is the hidden dimension."
   ]
  },
  {
   "cell_type": "markdown",
   "metadata": {
    "id": "bLLAQy7fk1if"
   },
   "source": [
    "Mathematically, the model's forward function at layer $k\\in[1,L]$ and timestep $t\\in[1,S]$ can be described as\n",
    "\n",
    "$$\n",
    "\\begin{align}\n",
    "\\vec{z_t}^{[k]} &= \\sigma\\left(\\vec{x}^{[k]}_t {\\mattr{W}_{\\mathrm{xz}}}^{[k]} +\n",
    "    \\vec{h}_{t-1}^{[k]} {\\mattr{W}_{\\mathrm{hz}}}^{[k]} + \\vec{b}_{\\mathrm{z}}^{[k]}\\right) \\\\\n",
    "\\vec{r_t}^{[k]} &= \\sigma\\left(\\vec{x}^{[k]}_t {\\mattr{W}_{\\mathrm{xr}}}^{[k]} +\n",
    "    \\vec{h}_{t-1}^{[k]} {\\mattr{W}_{\\mathrm{hr}}}^{[k]} + \\vec{b}_{\\mathrm{r}}^{[k]}\\right) \\\\\n",
    "\\vec{g_t}^{[k]} &= \\tanh\\left(\\vec{x}^{[k]}_t {\\mattr{W}_{\\mathrm{xg}}}^{[k]} +\n",
    "    (\\vec{r_t}^{[k]}\\odot\\vec{h}_{t-1}^{[k]}) {\\mattr{W}_{\\mathrm{hg}}}^{[k]} + \\vec{b}_{\\mathrm{g}}^{[k]}\\right) \\\\\n",
    "\\vec{h_t}^{[k]} &= \\vec{z}^{[k]}_t \\odot \\vec{h}^{[k]}_{t-1} + \\left(1-\\vec{z}^{[k]}_t\\right)\\odot \\vec{g_t}^{[k]}\n",
    "\\end{align}\n",
    "$$"
   ]
  },
  {
   "cell_type": "markdown",
   "metadata": {
    "id": "uiu3SY-Jk1if"
   },
   "source": [
    "The input to each layer is,\n",
    "$$\n",
    "\\mat{X}^{[k]} =\n",
    "\\begin{bmatrix}\n",
    "    {\\vec{x}_1}^{[k]} \\\\ \\vdots \\\\ {\\vec{x}_S}^{[k]}\n",
    "\\end{bmatrix}\n",
    "=\n",
    "\\begin{cases}\n",
    "    \\mat{X} & \\mathrm{if} ~k = 1~ \\\\\n",
    "    \\mathrm{dropout}_p \\left(\n",
    "    \\begin{bmatrix}\n",
    "        {\\vec{h}_1}^{[k-1]} \\\\ \\vdots \\\\ {\\vec{h}_S}^{[k-1]}\n",
    "    \\end{bmatrix} \\right) & \\mathrm{if} ~1 < k \\leq L+1~\n",
    "\\end{cases}.\n",
    "$$"
   ]
  },
  {
   "cell_type": "markdown",
   "metadata": {
    "id": "el2uEpZZk1if"
   },
   "source": [
    "The output of the entire model is then,\n",
    "$$\n",
    "\\mat{Y} = \\mat{X}^{[L+1]} {\\mattr{W}_{\\mathrm{hy}}} + \\mat{B}_{\\mathrm{y}}\n",
    "$$"
   ]
  },
  {
   "cell_type": "markdown",
   "metadata": {
    "id": "09c17JUJk1if"
   },
   "source": [
    "and the final hidden state is\n",
    "$$\n",
    "\\mat{H} =\n",
    "\\begin{bmatrix}\n",
    "    {\\vec{h}_S}^{[1]} \\\\ \\vdots \\\\ {\\vec{h}_S}^{[L]}\n",
    "\\end{bmatrix}.\n",
    "$$"
   ]
  },
  {
   "cell_type": "markdown",
   "metadata": {
    "id": "fjx_Q1Sjk1ig"
   },
   "source": [
    "Notes:\n",
    "- $t\\in[1,S]$ is the timestep, i.e. the current position within the sequence of each sample.\n",
    "- $\\vec{x}_t^{[k]}$ is the input of layer $k$ at timestep $t$, respectively.\n",
    "- The outputs of the **last layer** $\\vec{y}_t^{[L]}$, are the predicted next characters for every input char.\n",
    "  These are similar to class scores in classification tasks.\n",
    "- The hidden states at the **last timestep**, $\\vec{h}_S^{[k]}$, are the final hidden state returned from the model.\n",
    "- $\\sigma(\\cdot)$ is the sigmoid function, i.e. $\\sigma(\\vec{z}) = 1/(1+e^{-\\vec{z}})$ which returns values in $(0,1)$.\n",
    "- $\\tanh(\\cdot)$ is the hyperbolic tangent, i.e. $\\tanh(\\vec{z}) = (e^{2\\vec{z}}-1)/(e^{2\\vec{z}}+1)$ which returns values in $(-1,1)$.\n",
    "- $\\vec{h_t}^{[k]}$ is the hidden state of layer $k$ at time $t$. This can be thought of as the memory of that layer.\n",
    "- $\\vec{g_t}^{[k]}$ is the candidate hidden state for time $t+1$.\n",
    "- $\\vec{z_t}^{[k]}$ is known as the update gate. It combines the previous state with the input to determine how much the current state will be combined with the new candidate state. For example, if $\\vec{z_t}^{[k]}=\\vec{1}$ then the current input has no effect on the output.\n",
    "- $\\vec{r_t}^{[k]}$ is known as the reset gate. It combines the previous state with the input to determine how much of the previous state will affect the current state candidate. For example if $\\vec{r_t}^{[k]}=\\vec{0}$ the previous state has no effect on the current candidate state."
   ]
  },
  {
   "cell_type": "markdown",
   "metadata": {
    "id": "IBDObtxnm94A"
   },
   "source": [
    "Here's a graphical representation of the GRU's forward pass at each timestep. The $\\vec{\\tilde{h}}$ in the image is our $\\vec{g}$ (candidate next state).\n"
   ]
  },
  {
   "cell_type": "code",
   "execution_count": 17,
   "metadata": {
    "colab": {
     "base_uri": "https://localhost:8080/",
     "height": 643
    },
    "executionInfo": {
     "elapsed": 1214,
     "status": "ok",
     "timestamp": 1718920604586,
     "user": {
      "displayName": "Dror Meirovich",
      "userId": "14310987058477987674"
     },
     "user_tz": -180
    },
    "id": "rJ7mGAysm2xC",
    "outputId": "97d1024b-d493-4d56-edca-a10a5c77aab7"
   },
   "outputs": [
    {
     "data": {
      "image/png": "[encoded data removed]",
      "text/plain": [
       "<PIL.Image.Image image mode=RGBA size=1027x626 at 0x1CF0661A9D0>"
      ]
     },
     "metadata": {},
     "output_type": "display_data"
    }
   ],
   "source": [
    "show_single_image('imgs/gru_cell.png')"
   ]
  },
  {
   "cell_type": "markdown",
   "metadata": {
    "id": "UN-x2Suxk1ig"
   },
   "source": [
    "You can see how the reset and update gates allow the model to completely ignore it's previous state, completely ignore it's input, or any mixture of those states (since the gates are actually continuous and between $(0,1)$)."
   ]
  },
  {
   "cell_type": "markdown",
   "metadata": {
    "id": "LU-OBIeanQP7"
   },
   "source": [
    "Here's a graphical representation of the entire model.\n",
    "You can ignore the $c_t^{[k]}$ (cell state) variables (which are relevant for LSTM models).\n",
    "Our model has only the hidden state, $h_t^{[k]}$. Also notice that we added dropout between layers (i.e., on the up arrows)."
   ]
  },
  {
   "cell_type": "code",
   "execution_count": 18,
   "metadata": {
    "colab": {
     "base_uri": "https://localhost:8080/",
     "height": 565
    },
    "executionInfo": {
     "elapsed": 1254,
     "status": "ok",
     "timestamp": 1718920609518,
     "user": {
      "displayName": "Dror Meirovich",
      "userId": "14310987058477987674"
     },
     "user_tz": -180
    },
    "id": "937DWzCLnEHl",
    "outputId": "d97e6227-31a6-4e42-b017-842d8c8c3dbd"
   },
   "outputs": [
    {
     "data": {
      "image/png": "[encoded data removed]",
      "text/plain": [
       "<PIL.Image.Image image mode=RGBA size=640x548 at 0x1CF0661AAF0>"
      ]
     },
     "metadata": {},
     "output_type": "display_data"
    }
   ],
   "source": [
    "show_single_image('imgs/lstm_model.png')"
   ]
  },
  {
   "cell_type": "markdown",
   "metadata": {
    "id": "8Ug9d0lxk1ig"
   },
   "source": [
    "The purple tensors are inputs (a sequence and initial hidden state per layer), and the green tensors are outputs (another sequence and final hidden state per layer). Each blue block implements the above forward equations.\n",
    "Blocks that are on the same vertical level are at the same layer, and therefore share parameters."
   ]
  },
  {
   "cell_type": "markdown",
   "metadata": {
    "id": "2If11s4bk1ig"
   },
   "source": [
    "**TODO**: **READ!!** the `MultilayerGRU` class in the `hw3/charnn.py` module.\n",
    "\n",
    "**Due to the war and shorter semester, we choose to give you our implementation for this part.**\n",
    "**Please take the time to read the implementation, since it has some thinking about the model you have not seen so far**\n",
    "\n",
    "Notes:\n",
    "- We use **batches** now.\n",
    "  The math is identical to the above, but all the tensors will have an extra batch\n",
    "  dimension as their first dimension.\n",
    "- Before you read the implementation, read the diagram above, try to understand all the dimentions.\n"
   ]
  },
  {
   "cell_type": "code",
   "execution_count": 19,
   "metadata": {
    "colab": {
     "base_uri": "https://localhost:8080/",
     "height": 220
    },
    "executionInfo": {
     "elapsed": 653,
     "status": "error",
     "timestamp": 1718920821191,
     "user": {
      "displayName": "Dror Meirovich",
      "userId": "14310987058477987674"
     },
     "user_tz": -180
    },
    "id": "KoTxK0m7k1ig",
    "outputId": "d2c87dd8-b543-4682-cfb7-b32fee8ce55d"
   },
   "outputs": [
    {
     "name": "stdout",
     "output_type": "stream",
     "text": [
      "MultilayerGRU(\n",
      "  (wxz_0): Linear(in_features=78, out_features=256, bias=False)\n",
      "  (whz_0): Linear(in_features=256, out_features=256, bias=True)\n",
      "  (wxr_0): Linear(in_features=78, out_features=256, bias=False)\n",
      "  (whr_0): Linear(in_features=256, out_features=256, bias=True)\n",
      "  (wxg_0): Linear(in_features=78, out_features=256, bias=False)\n",
      "  (whg_0): Linear(in_features=256, out_features=256, bias=True)\n",
      "  (wxz_1): Linear(in_features=256, out_features=256, bias=False)\n",
      "  (whz_1): Linear(in_features=256, out_features=256, bias=True)\n",
      "  (wxr_1): Linear(in_features=256, out_features=256, bias=False)\n",
      "  (whr_1): Linear(in_features=256, out_features=256, bias=True)\n",
      "  (wxg_1): Linear(in_features=256, out_features=256, bias=False)\n",
      "  (whg_1): Linear(in_features=256, out_features=256, bias=True)\n",
      "  (wxz_2): Linear(in_features=256, out_features=256, bias=False)\n",
      "  (whz_2): Linear(in_features=256, out_features=256, bias=True)\n",
      "  (wxr_2): Linear(in_features=256, out_features=256, bias=False)\n",
      "  (whr_2): Linear(in_features=256, out_features=256, bias=True)\n",
      "  (wxg_2): Linear(in_features=256, out_features=256, bias=False)\n",
      "  (whg_2): Linear(in_features=256, out_features=256, bias=True)\n",
      "  (dropout): Dropout(p=0, inplace=False)\n",
      "  (why): Linear(in_features=256, out_features=78, bias=True)\n",
      ")\n",
      "y.shape=torch.Size([32, 64, 78])\n",
      "h.shape=torch.Size([32, 3, 256])\n"
     ]
    }
   ],
   "source": [
    "y = None\n",
    "h = None\n",
    "model = None\n",
    "assert vocab_len is not None\n",
    "in_dim = vocab_len\n",
    "h_dim = 256\n",
    "n_layers = 3\n",
    "model = charnn.MultilayerGRU(in_dim, h_dim, out_dim=in_dim, n_layers=n_layers)\n",
    "model = model.to(device)\n",
    "print(model)\n",
    "\n",
    "# Test forward pass\n",
    "y, h = model(x0.to(dtype=torch.float, device=device))\n",
    "print(f'y.shape={y.shape}')\n",
    "print(f'h.shape={h.shape}')\n",
    "\n",
    "test.assertEqual(y.shape, (batch_size, seq_len, vocab_len))\n",
    "test.assertEqual(h.shape, (batch_size, n_layers, h_dim))\n",
    "test.assertEqual(len(list(model.parameters())), 9 * n_layers + 2)"
   ]
  },
  {
   "cell_type": "markdown",
   "metadata": {
    "id": "75c82aEzk1ig"
   },
   "source": [
    "### Generating text by sampling\n",
    "<a id=part1_6></a>"
   ]
  },
  {
   "cell_type": "markdown",
   "metadata": {
    "id": "OblVG5tek1ig"
   },
   "source": [
    "Now that we have a model, we can implement **text generation** based on it.\n",
    "The idea is simple:\n",
    "At each timestep our model receives one char $x_t$ from the input sequence and outputs scores $y_t$\n",
    "for what the next char should be.\n",
    "We'll convert these scores into a probability over each of the possible chars.\n",
    "In other words, for each input char $x_t$ we create a probability distribution for the next char\n",
    "conditioned on the current one and the state of the model (representing all previous inputs):\n",
    "$$p(x_{t+1}|x_t, \\vec{h}_t).$$\n",
    "\n",
    "Once we have such a distribution, we'll sample a char from it.\n",
    "This will be the first char of our generated sequence.\n",
    "Now we can feed this new char into the model, create another distribution, sample the next char and so on.\n",
    "Note that it's crucial to propagate the hidden state when sampling."
   ]
  },
  {
   "cell_type": "markdown",
   "metadata": {
    "id": "ckbLfdFdk1ig"
   },
   "source": [
    "The important point however is how to create the distribution from the scores.\n",
    "One way, as we saw in previous ML tasks, is to use the softmax function.\n",
    "However, a drawback of softmax is that it can generate very diffuse (more uniform) distributions if the score values are very similar. When sampling, we would prefer to control the distributions and make them less uniform to increase the chance of sampling the char(s) with the highest scores compared to the others.\n",
    "\n",
    "To control the variance of the distribution, a common trick is to add a hyperparameter $T$, known as the\n",
    "*temperature* to the softmax function. The class scores are simply scaled by $T$ before softmax is applied:\n",
    "$$\n",
    "\\mathrm{softmax}_T(\\vec{y}) = \\frac{e^{\\vec{y}/T}}{\\sum_k e^{y_k/T}}\n",
    "$$\n",
    "\n",
    "A low $T$ will result in less uniform distributions and vice-versa."
   ]
  },
  {
   "cell_type": "markdown",
   "metadata": {
    "id": "ZiRCffU8k1ih"
   },
   "source": [
    "**TODO**: Implement the `hot_softmax()` function in the `hw3/charnn.py` module."
   ]
  },
  {
   "cell_type": "code",
   "execution_count": 20,
   "metadata": {
    "colab": {
     "base_uri": "https://localhost:8080/",
     "height": 220
    },
    "executionInfo": {
     "elapsed": 487,
     "status": "error",
     "timestamp": 1718920797070,
     "user": {
      "displayName": "Dror Meirovich",
      "userId": "14310987058477987674"
     },
     "user_tz": -180
    },
    "id": "064PAdCqk1ih",
    "outputId": "03b3cdde-6af7-4dea-c44b-b7523a62471a"
   },
   "outputs": [
    {
     "data": {
      "image/png": "[encoded data removed]",
      "text/plain": [
       "<Figure size 1080x360 with 1 Axes>"
      ]
     },
     "metadata": {
      "needs_background": "light"
     },
     "output_type": "display_data"
    }
   ],
   "source": [
    "scores = y[0,0,:].detach()\n",
    "_, ax = plt.subplots(figsize=(15,5))\n",
    "\n",
    "for t in reversed([0.3, 0.5, 1.0, 100]):\n",
    "    ax.plot(charnn.hot_softmax(scores, temperature=t).cpu().numpy(), label=f'T={t}')\n",
    "ax.set_xlabel('$x_{t+1}$')\n",
    "ax.set_ylabel('$p(x_{t+1}|x_t)$')\n",
    "ax.legend()\n",
    "\n",
    "uniform_proba = 1/len(char_to_idx)\n",
    "uniform_diff = torch.abs(charnn.hot_softmax(scores, temperature=100) - uniform_proba)\n",
    "test.assertTrue(torch.all(uniform_diff < 1e-4))"
   ]
  },
  {
   "cell_type": "markdown",
   "metadata": {
    "id": "pT9AtEW3k1ih"
   },
   "source": [
    "**TODO**: Implement the `generate_from_model()` function in the `hw3/charnn.py` module."
   ]
  },
  {
   "cell_type": "code",
   "execution_count": 21,
   "metadata": {
    "colab": {
     "base_uri": "https://localhost:8080/",
     "height": 329
    },
    "executionInfo": {
     "elapsed": 489,
     "status": "error",
     "timestamp": 1718920832706,
     "user": {
      "displayName": "Dror Meirovich",
      "userId": "14310987058477987674"
     },
     "user_tz": -180
    },
    "id": "0tKroy_-k1ih",
    "outputId": "04aaabd8-ef4b-4b25-8423-9cb5251436ef"
   },
   "outputs": [
    {
     "name": "stdout",
     "output_type": "stream",
     "text": [
      "foobarF87vUiszi7ze]NuKeI urUy8fx(jT8(la:(kW.PZonv7\n",
      "foobar(ITx(cx) 4-\"x(xLd,\n",
      "7R&yp)puNxdTOAq(l;3,Kulgb\n",
      "foobarrU[-vn2wt2kkUWePe])6 R)C8jdnyg\"');avW4K[?!u(\n"
     ]
    }
   ],
   "source": [
    "for _ in range(3):\n",
    "    text = charnn.generate_from_model(model, \"foobar\", 50, (char_to_idx, idx_to_char), T=0.5)\n",
    "    print(text)\n",
    "    test.assertEqual(len(text), 50)"
   ]
  },
  {
   "cell_type": "markdown",
   "metadata": {
    "id": "G-iGOfF-k1ih"
   },
   "source": [
    "### Training\n",
    "<a id=part1_7></a>"
   ]
  },
  {
   "cell_type": "markdown",
   "metadata": {
    "id": "Khe_UZn1k1ih"
   },
   "source": [
    "To train this model, we'll calculate the loss at each time step by comparing the predicted char to\n",
    "the actual char from our label. We can use cross entropy since per char it's similar to a classification problem.\n",
    "We'll then sum the losses over the sequence and back-propagate the gradients though time.\n",
    "Notice that the back-propagation algorithm will \"visit\" each layer's parameter tensors multiple times,\n",
    "so we'll accumulate gradients in parameters of the blocks. Luckily `autograd` will handle this part for us."
   ]
  },
  {
   "cell_type": "markdown",
   "metadata": {
    "id": "x0pDubSWk1ih"
   },
   "source": [
    "As usual, the first step of training will be to try and **overfit** a large model (many parameters) to a tiny dataset.\n",
    "Again, this is to ensure the model and training code are implemented correctly, i.e. that the model can learn.\n",
    "\n",
    "For a generative model such as this, overfitting is slightly trickier than for classification.\n",
    "What we'll aim to do is to get our model to **memorize** a specific sequence of chars, so that when given the first\n",
    "char in the sequence it will immediately spit out the rest of the sequence verbatim.\n",
    "\n",
    "Let's create a tiny dataset to memorize."
   ]
  },
  {
   "cell_type": "code",
   "execution_count": 22,
   "metadata": {
    "colab": {
     "base_uri": "https://localhost:8080/",
     "height": 329
    },
    "executionInfo": {
     "elapsed": 671,
     "status": "error",
     "timestamp": 1718920907720,
     "user": {
      "displayName": "Dror Meirovich",
      "userId": "14310987058477987674"
     },
     "user_tz": -180
    },
    "id": "EMRVf10Ak1ih",
    "outputId": "4b11a634-4c7c-483c-a0a5-07d1a66a394c"
   },
   "outputs": [
    {
     "name": "stdout",
     "output_type": "stream",
     "text": [
      "Text to \"memorize\":\n",
      "\n",
      "TRAM. What would you have?\n",
      "  HELENA. Something; and scarce so much; nothing, indeed.\n",
      "    I would not tell you what I would, my lord.\n",
      "    Faith, yes:\n",
      "    Strangers and foes do sunder and not kiss.\n",
      "  BERTRAM. I pray you, stay not, but in haste to horse.\n",
      "  HE\n"
     ]
    }
   ],
   "source": [
    "# Pick a tiny subset of the dataset\n",
    "subset_start, subset_end = 1001, 1005\n",
    "ds_corpus_ss = torch.utils.data.Subset(ds_corpus, range(subset_start, subset_end))\n",
    "batch_size_ss = 1\n",
    "sampler_ss = SequenceBatchSampler(ds_corpus_ss, batch_size=batch_size_ss)\n",
    "dl_corpus_ss = torch.utils.data.DataLoader(ds_corpus_ss, batch_size_ss, sampler=sampler_ss, shuffle=False)\n",
    "\n",
    "# Convert subset to text\n",
    "subset_text = ''\n",
    "for i in range(subset_end - subset_start):\n",
    "    subset_text += unembed(ds_corpus_ss[i][0])\n",
    "print(f'Text to \"memorize\":\\n\\n{subset_text}')"
   ]
  },
  {
   "cell_type": "markdown",
   "metadata": {
    "id": "Xhgz7Gwik1ii"
   },
   "source": [
    "Now let's implement the first part of our training code.\n",
    "\n",
    "**TODO**: Implement the `train_epoch()` and `train_batch()` methods of the `RNNTrainer` class in the `hw3/training.py` module.\n",
    "You must think about how to correctly handle the hidden state of the model between batches and epochs for this specific task (i.e. text generation)."
   ]
  },
  {
   "cell_type": "code",
   "execution_count": 23,
   "metadata": {
    "colab": {
     "base_uri": "https://localhost:8080/",
     "height": 348
    },
    "executionInfo": {
     "elapsed": 3150,
     "status": "error",
     "timestamp": 1718920915910,
     "user": {
      "displayName": "Dror Meirovich",
      "userId": "14310987058477987674"
     },
     "user_tz": -180
    },
    "id": "K-oIoaNhk1ii",
    "outputId": "e3421384-ab56-44eb-c767-feba07c3b062"
   },
   "outputs": [
    {
     "name": "stdout",
     "output_type": "stream",
     "text": [
      "\n",
      "Epoch #1: Avg. loss = 3.957, Accuracy = 17.58%\n",
      "Tao                       t                                                            a           t t                            a       t         a                                                    t                                        t      t      \n",
      "\n",
      "Epoch #25: Avg. loss = 0.139, Accuracy = 99.22%\n",
      "TRAM. What would you have?\n",
      "  HELENA. Something; and scarce so much; nothing, indeed.\n",
      "    I would not tell you what I would not kiss.\n",
      "  BERTRAM. I pray you, stay not, but in haste to horse.\n",
      "  HELENA. Something, indeed.\n",
      "    I would not kiss.\n",
      "  BERTRAM. I pra\n",
      "\n",
      "Epoch #50: Avg. loss = 0.007, Accuracy = 100.00%\n",
      "TRAM. What would you have?\n",
      "  HELENA. Something; and scarce so much; nothing, indeed.\n",
      "    I would not tell you what I would, my lord.\n",
      "    Faith, yes:\n",
      "    Strangers and foes do sunder and not kiss.\n",
      "  BERTRAM. I pray you, stay not, but in haste to horse.\n",
      "  HE\n"
     ]
    }
   ],
   "source": [
    "import torch.nn as nn\n",
    "import torch.optim as optim\n",
    "from hw3.training import RNNTrainer\n",
    "\n",
    "torch.manual_seed(42)\n",
    "\n",
    "lr = 0.01\n",
    "num_epochs = 500\n",
    "\n",
    "in_dim = vocab_len\n",
    "h_dim = 128\n",
    "n_layers = 2\n",
    "loss_fn = nn.CrossEntropyLoss()\n",
    "model = charnn.MultilayerGRU(in_dim, h_dim, out_dim=in_dim, n_layers=n_layers).to(device)\n",
    "optimizer = optim.Adam(model.parameters(), lr=lr)\n",
    "trainer = RNNTrainer(model, loss_fn, optimizer, device)\n",
    "\n",
    "for epoch in range(num_epochs):\n",
    "    epoch_result = trainer.train_epoch(dl_corpus_ss, verbose=False)\n",
    "\n",
    "    # Every X epochs, we'll generate a sequence starting from the first char in the first sequence\n",
    "    # to visualize how/if/what the model is learning.\n",
    "    if epoch == 0 or (epoch+1) % 25 == 0:\n",
    "        avg_loss = np.mean(epoch_result.losses)\n",
    "        accuracy = np.mean(epoch_result.accuracy)\n",
    "        print(f'\\nEpoch #{epoch+1}: Avg. loss = {avg_loss:.3f}, Accuracy = {accuracy:.2f}%')\n",
    "\n",
    "        generated_sequence = charnn.generate_from_model(model, subset_text[0],\n",
    "                                                        seq_len*(subset_end-subset_start),\n",
    "                                                        (char_to_idx,idx_to_char), T=0.1)\n",
    "\n",
    "        # Stop if we've successfully memorized the small dataset.\n",
    "        print(generated_sequence)\n",
    "        if generated_sequence == subset_text:\n",
    "            break\n",
    "\n",
    "# Test successful overfitting\n",
    "test.assertGreater(epoch_result.accuracy, 99)\n",
    "test.assertEqual(generated_sequence, subset_text)"
   ]
  },
  {
   "cell_type": "markdown",
   "metadata": {
    "id": "AoRIjlHRk1ii"
   },
   "source": [
    "OK, so training works - we can memorize a short sequence.\n",
    "We'll now train a much larger model on our large dataset. You'll need a GPU for this part.\n",
    "\n",
    "First, lets set up our dataset and models for training.\n",
    "We'll split our corpus into 90% train and 10% test-set.\n",
    "Also, we'll use a learning-rate scheduler to control the learning rate during training."
   ]
  },
  {
   "cell_type": "markdown",
   "metadata": {
    "id": "FNnmXEEpk1ii"
   },
   "source": [
    "**TODO**: Set the hyperparameters in the `part1_rnn_hyperparams()` function of the `hw3/answers.py` module."
   ]
  },
  {
   "cell_type": "code",
   "execution_count": 24,
   "metadata": {
    "colab": {
     "base_uri": "https://localhost:8080/",
     "height": 256
    },
    "executionInfo": {
     "elapsed": 590,
     "status": "error",
     "timestamp": 1718920987699,
     "user": {
      "displayName": "Dror Meirovich",
      "userId": "14310987058477987674"
     },
     "user_tz": -180
    },
    "id": "jtsgLNa6k1ii",
    "outputId": "64c39a1b-e310-416d-b316-04ff13dced38"
   },
   "outputs": [
    {
     "name": "stdout",
     "output_type": "stream",
     "text": [
      "hyperparams:\n",
      " {'batch_size': 250, 'seq_len': 100, 'h_dim': 250, 'n_layers': 2, 'dropout': 0.01, 'learn_rate': 0.005, 'lr_sched_factor': 0.05, 'lr_sched_patience': 1}\n",
      "Train: 228 batches, 5700000 chars\n",
      "Test:   25 batches,  625000 chars\n"
     ]
    }
   ],
   "source": [
    "from hw3.answers import part1_rnn_hyperparams\n",
    "checkpoint_file = None\n",
    "hp = part1_rnn_hyperparams()\n",
    "print('hyperparams:\\n', hp)\n",
    "\n",
    "### Dataset definition\n",
    "vocab_len = len(char_to_idx)\n",
    "batch_size = hp['batch_size']\n",
    "seq_len = hp['seq_len']\n",
    "train_test_ratio = 0.9\n",
    "num_samples = (len(corpus) - 1) // seq_len\n",
    "num_train = int(train_test_ratio * num_samples)\n",
    "\n",
    "samples, labels = charnn.chars_to_labelled_samples(corpus, char_to_idx, seq_len, device)\n",
    "\n",
    "ds_train = torch.utils.data.TensorDataset(samples[:num_train], labels[:num_train])\n",
    "sampler_train = SequenceBatchSampler(ds_train, batch_size)\n",
    "dl_train = torch.utils.data.DataLoader(ds_train, batch_size, shuffle=False, sampler=sampler_train, drop_last=True)\n",
    "\n",
    "ds_test = torch.utils.data.TensorDataset(samples[num_train:], labels[num_train:])\n",
    "sampler_test = SequenceBatchSampler(ds_test, batch_size)\n",
    "dl_test = torch.utils.data.DataLoader(ds_test, batch_size, shuffle=False, sampler=sampler_test, drop_last=True)\n",
    "\n",
    "print(f'Train: {len(dl_train):3d} batches, {len(dl_train)*batch_size*seq_len:7d} chars')\n",
    "print(f'Test:  {len(dl_test):3d} batches, {len(dl_test)*batch_size*seq_len:7d} chars')\n",
    "\n",
    "### Training definition\n",
    "in_dim = out_dim = vocab_len\n",
    "checkpoint_file = 'checkpoints/rnn'\n",
    "num_epochs = 50\n",
    "early_stopping = 5\n",
    "\n",
    "model = charnn.MultilayerGRU(in_dim, hp['h_dim'], out_dim, hp['n_layers'], hp['dropout'])\n",
    "loss_fn = nn.CrossEntropyLoss()\n",
    "optimizer = optim.Adam(model.parameters(), lr=hp['learn_rate'])\n",
    "scheduler = optim.lr_scheduler.ReduceLROnPlateau(\n",
    "    optimizer, mode='max', factor=hp['lr_sched_factor'], patience=hp['lr_sched_patience'], verbose=True\n",
    ")\n",
    "trainer = RNNTrainer(model, loss_fn, optimizer, device)"
   ]
  },
  {
   "cell_type": "markdown",
   "metadata": {
    "id": "Z87cDETsk1ii"
   },
   "source": [
    "The code blocks below will train the model and save checkpoints containing the training state and the best model parameters to a file. This allows you to stop training and resume it later from where you left.\n",
    "\n",
    "Note that you can use the `main.py` script provided within the assignment folder to run this notebook from the command line as if it were a python script by using the `run-nb` subcommand. This allows you to train your model using this notebook without starting jupyter. You can combine this with `srun` or `sbatch` to run the notebook with a GPU on the course servers."
   ]
  },
  {
   "cell_type": "markdown",
   "metadata": {
    "id": "pUysMyslk1ii"
   },
   "source": [
    "**TODO**:\n",
    "- Implement the `fit()` method of the `Trainer` class. You can reuse the relevant implementation parts from HW2, but make sure to implement early stopping and checkpoints.\n",
    "- Implement the `test_epoch()` and `test_batch()` methods of the `RNNTrainer` class in the `hw3/training.py` module.\n",
    "- Run the following block to train.\n",
    "- When training is done and you're satisfied with the model's outputs, rename the checkpoint file to `checkpoints/rnn_final.pt`.\n",
    "  This will cause the block to skip training and instead load your saved model when running the homework submission script.\n",
    "  Note that your submission zip file will not include the checkpoint file. This is OK."
   ]
  },
  {
   "cell_type": "code",
   "execution_count": 25,
   "metadata": {
    "colab": {
     "base_uri": "https://localhost:8080/",
     "height": 348
    },
    "executionInfo": {
     "elapsed": 533,
     "status": "error",
     "timestamp": 1718921002460,
     "user": {
      "displayName": "Dror Meirovich",
      "userId": "14310987058477987674"
     },
     "user_tz": -180
    },
    "id": "e2La-smqk1ij",
    "outputId": "d1ddbade-fc68-4772-99af-061780923985",
    "scrolled": true
   },
   "outputs": [
    {
     "name": "stdout",
     "output_type": "stream",
     "text": [
      "ACT I.\"J\n",
      "Af:)7RUtqr-)h!Y)x3;Bb.\"-OGsf5x7'ALPyKiOV9eTd4at3uFM,sWkW:B1vVW,NzLdg;.F&F hdziOaC!X\"]v5KJ-O\n",
      "--- EPOCH 1/50 ---\n",
      "train_batch (Avg. Loss 1.951, Accuracy 44.9): 100%|██████████| 228/228 [17:36<00:00,  4.63s/it]\n",
      "test_batch (Avg. Loss 1.722, Accuracy 48.3): 100%|██████████| 25/25 [00:18<00:00,  1.37it/s]\n",
      "*** Saved checkpoint checkpoints/rnn.pt at epoch 1\n",
      "ACT I.\n",
      "  PANDARUS. You have more time the sease of her shall stain\n",
      "    Than the seas the name thee a\n",
      "--- EPOCH 2/50 ---\n",
      "train_batch (Avg. Loss 1.380, Accuracy 58.3): 100%|██████████| 228/228 [13:54<00:00,  3.66s/it]\n",
      "test_batch (Avg. Loss 1.561, Accuracy 53.0): 100%|██████████| 25/25 [00:18<00:00,  1.38it/s]\n",
      "*** Saved checkpoint checkpoints/rnn.pt at epoch 2\n",
      "ACT I.\n",
      "                                                                                             \n",
      "--- EPOCH 3/50 ---\n",
      "train_batch (Avg. Loss 1.272, Accuracy 61.0): 100%|██████████| 228/228 [14:09<00:00,  3.73s/it]\n",
      "test_batch (Avg. Loss 1.528, Accuracy 54.2): 100%|██████████| 25/25 [00:19<00:00,  1.29it/s]\n",
      "*** Saved checkpoint checkpoints/rnn.pt at epoch 3\n",
      "ACT I.\n",
      "    He shall be that more strangers and beasts so stronger.\n",
      "    And so not so that to the lad\n",
      "--- EPOCH 4/50 ---\n",
      "train_batch (Avg. Loss 1.227, Accuracy 62.2): 100%|██████████| 228/228 [15:30<00:00,  4.08s/it]\n",
      "test_batch (Avg. Loss 1.530, Accuracy 54.5): 100%|██████████| 25/25 [00:18<00:00,  1.32it/s]\n",
      "*** Saved checkpoint checkpoints/rnn.pt at epoch 4\n",
      "ACT I.\n",
      "                                                                                             \n",
      "--- EPOCH 5/50 ---\n",
      "train_batch (Avg. Loss 1.200, Accuracy 62.8): 100%|██████████| 228/228 [15:03<00:00,  3.96s/it]\n",
      "test_batch (Avg. Loss 1.516, Accuracy 54.6): 100%|██████████| 25/25 [00:18<00:00,  1.35it/s]\n",
      "*** Saved checkpoint checkpoints/rnn.pt at epoch 5\n",
      "ACT I.  \n",
      "  HOLOFERNES. What should I see the strength, sir, he shall\n",
      "    disguis'd with the son?\n",
      "  P\n",
      "--- EPOCH 6/50 ---\n",
      "train_batch (Avg. Loss 1.181, Accuracy 63.3): 100%|██████████| 228/228 [15:47<00:00,  4.16s/it]\n",
      "test_batch (Avg. Loss 1.511, Accuracy 54.9): 100%|██████████| 25/25 [00:18<00:00,  1.37it/s]\n",
      "*** Saved checkpoint checkpoints/rnn.pt at epoch 6\n",
      "ACT I.  \n",
      "  LARY. I will not do it, sir, for the welcome of the Master means\n",
      "    the more of the offe\n",
      "--- EPOCH 7/50 ---\n",
      "train_batch (Avg. Loss 1.168, Accuracy 63.6): 100%|██████████| 228/228 [14:50<00:00,  3.90s/it]\n",
      "test_batch (Avg. Loss 1.499, Accuracy 55.4): 100%|██████████| 25/25 [00:18<00:00,  1.33it/s]\n",
      "*** Saved checkpoint checkpoints/rnn.pt at epoch 7\n",
      "ACT I.\n",
      "                                                                                             \n",
      "--- EPOCH 8/50 ---\n",
      "train_batch (Avg. Loss 1.158, Accuracy 63.9): 100%|██████████| 228/228 [15:22<00:00,  4.05s/it]\n",
      "test_batch (Avg. Loss 1.493, Accuracy 55.5): 100%|██████████| 25/25 [00:18<00:00,  1.32it/s]\n",
      "*** Saved checkpoint checkpoints/rnn.pt at epoch 8\n",
      "ACT I.\n",
      "  GENTLEMAN. The father of his throats of my treason for the treason\n",
      "    That she should be t\n",
      "--- EPOCH 9/50 ---\n",
      "train_batch (Avg. Loss 1.150, Accuracy 64.0): 100%|██████████| 228/228 [15:16<00:00,  4.02s/it]\n",
      "test_batch (Avg. Loss 1.498, Accuracy 55.5): 100%|██████████| 25/25 [00:17<00:00,  1.40it/s]\n",
      "ACT I. I will not slay the street.\n",
      "    I will be patient and boat of mine own property.\n",
      "    How have\n",
      "--- EPOCH 10/50 ---\n",
      "train_batch (Avg. Loss 1.145, Accuracy 64.2): 100%|██████████| 228/228 [14:42<00:00,  3.87s/it]\n",
      "test_batch (Avg. Loss 1.515, Accuracy 55.2): 100%|██████████| 25/25 [00:18<00:00,  1.37it/s]\n",
      "Epoch 00010: reducing learning rate of group 0 to 2.5000e-04.\n",
      "ACT I.  \n",
      "    Look and breathe him there will be the court\n",
      "    And will be well to gross in the truth\n",
      "--- EPOCH 11/50 ---\n",
      "train_batch (Avg. Loss 1.110, Accuracy 65.2): 100%|██████████| 228/228 [15:21<00:00,  4.04s/it]\n",
      "test_batch (Avg. Loss 1.461, Accuracy 56.3): 100%|██████████| 25/25 [00:18<00:00,  1.32it/s]\n",
      "*** Saved checkpoint checkpoints/rnn.pt at epoch 11\n",
      "ACT I.\n",
      "                                                                   [Sneeping his wife.]\n",
      "    A\n",
      "--- EPOCH 12/50 ---\n",
      "train_batch (Avg. Loss 1.097, Accuracy 65.5): 100%|██████████| 228/228 [15:40<00:00,  4.13s/it]\n",
      "test_batch (Avg. Loss 1.458, Accuracy 56.4): 100%|██████████| 25/25 [00:18<00:00,  1.37it/s]\n",
      "*** Saved checkpoint checkpoints/rnn.pt at epoch 12\n",
      "ACT I.\n",
      "  Corn. I am sure they shall suppose the gods before\n",
      "    the shore of an answer. I know not w\n",
      "--- EPOCH 13/50 ---\n",
      "train_batch (Avg. Loss 1.092, Accuracy 65.7): 100%|██████████| 228/228 [14:18<00:00,  3.77s/it]\n",
      "test_batch (Avg. Loss 1.456, Accuracy 56.5): 100%|██████████| 25/25 [00:18<00:00,  1.38it/s]\n",
      "*** Saved checkpoint checkpoints/rnn.pt at epoch 13\n",
      "ACT I.\n",
      "                                                                                             \n",
      "--- EPOCH 14/50 ---\n",
      "train_batch (Avg. Loss 1.089, Accuracy 65.7): 100%|██████████| 228/228 [14:15<00:00,  3.75s/it]\n",
      "test_batch (Avg. Loss 1.455, Accuracy 56.5): 100%|██████████| 25/25 [00:19<00:00,  1.25it/s]\n",
      "*** Saved checkpoint checkpoints/rnn.pt at epoch 14\n",
      "ACT I.\n",
      "                                                                                             \n",
      "--- EPOCH 15/50 ---\n",
      "train_batch (Avg. Loss 1.087, Accuracy 65.8): 100%|██████████| 228/228 [15:32<00:00,  4.09s/it]\n",
      "test_batch (Avg. Loss 1.455, Accuracy 56.5): 100%|██████████| 25/25 [00:21<00:00,  1.16it/s]\n",
      "*** Saved checkpoint checkpoints/rnn.pt at epoch 15\n",
      "ACT I.\n",
      "    Therefore come to some fair counsel with me,\n",
      "    Than the lion of that same is this so bu\n",
      "--- EPOCH 16/50 ---\n",
      "train_batch (Avg. Loss 1.085, Accuracy 65.8): 100%|██████████| 228/228 [15:47<00:00,  4.16s/it]\n",
      "test_batch (Avg. Loss 1.455, Accuracy 56.6): 100%|██████████| 25/25 [00:19<00:00,  1.27it/s]\n",
      "*** Saved checkpoint checkpoints/rnn.pt at epoch 16\n",
      "ACT I.\n",
      "                                                                                             \n",
      "--- EPOCH 17/50 ---\n",
      "train_batch (Avg. Loss 1.083, Accuracy 65.9): 100%|██████████| 228/228 [15:30<00:00,  4.08s/it]\n",
      "test_batch (Avg. Loss 1.455, Accuracy 56.6): 100%|██████████| 25/25 [00:18<00:00,  1.35it/s]\n",
      "*** Saved checkpoint checkpoints/rnn.pt at epoch 17\n",
      "ACT I.                                                     [They all dispatch]\n",
      "    The field of batt\n",
      "--- EPOCH 18/50 ---\n",
      "train_batch (Avg. Loss 1.082, Accuracy 65.9): 100%|██████████| 228/228 [14:33<00:00,  3.83s/it]\n",
      "test_batch (Avg. Loss 1.454, Accuracy 56.6): 100%|██████████| 25/25 [00:18<00:00,  1.34it/s]\n",
      "*** Saved checkpoint checkpoints/rnn.pt at epoch 18\n",
      "ACT I.\n",
      "                                                                                             \n",
      "--- EPOCH 19/50 ---\n",
      "train_batch (Avg. Loss 1.080, Accuracy 66.0): 100%|██████████| 228/228 [15:18<00:00,  4.03s/it]\n",
      "test_batch (Avg. Loss 1.455, Accuracy 56.6): 100%|██████████| 25/25 [00:18<00:00,  1.34it/s]\n",
      "ACT I.\n",
      "  Claud. Why, then for the part of the whole son of all the tent\n",
      "     So thrust the truth tha\n",
      "--- EPOCH 20/50 ---\n",
      "train_batch (Avg. Loss 1.079, Accuracy 66.0): 100%|██████████| 228/228 [15:23<00:00,  4.05s/it]\n",
      "test_batch (Avg. Loss 1.455, Accuracy 56.6): 100%|██████████| 25/25 [00:18<00:00,  1.34it/s]\n",
      "*** Saved checkpoint checkpoints/rnn.pt at epoch 20\n",
      "Epoch 00020: reducing learning rate of group 0 to 1.2500e-05.\n",
      "ACT I.\n",
      "  Claud. I will not stay a month so much that I have a bawd\n",
      "    of the gentleman of him. I ha\n",
      "--- EPOCH 21/50 ---\n",
      "train_batch (Avg. Loss 1.075, Accuracy 66.1): 100%|██████████| 228/228 [15:27<00:00,  4.07s/it]\n",
      "test_batch (Avg. Loss 1.454, Accuracy 56.6): 100%|██████████| 25/25 [00:24<00:00,  1.02it/s]\n",
      "*** Saved checkpoint checkpoints/rnn.pt at epoch 21\n",
      "ACT I.\n",
      "                                                                                             \n",
      "--- EPOCH 22/50 ---\n",
      "train_batch (Avg. Loss 1.075, Accuracy 66.1): 100%|██████████| 228/228 [15:24<00:00,  4.06s/it]\n",
      "test_batch (Avg. Loss 1.453, Accuracy 56.7): 100%|██████████| 25/25 [00:18<00:00,  1.36it/s]\n",
      "*** Saved checkpoint checkpoints/rnn.pt at epoch 22\n",
      "ACT I.\n",
      "      The rest of the time is this that long hath made behind\n",
      "     That thou art for my fathe\n",
      "--- EPOCH 23/50 ---\n",
      "train_batch (Avg. Loss 1.074, Accuracy 66.1): 100%|██████████| 228/228 [15:21<00:00,  4.04s/it]\n",
      "test_batch (Avg. Loss 1.453, Accuracy 56.7): 100%|██████████| 25/25 [00:18<00:00,  1.35it/s]\n",
      "*** Saved checkpoint checkpoints/rnn.pt at epoch 23\n",
      "ACT I.\n",
      "                                                                                          [Ex\n",
      "--- EPOCH 24/50 ---\n",
      "train_batch (Avg. Loss 1.074, Accuracy 66.1): 100%|██████████| 228/228 [14:59<00:00,  3.94s/it]\n",
      "test_batch (Avg. Loss 1.453, Accuracy 56.7): 100%|██████████| 25/25 [00:17<00:00,  1.41it/s]\n",
      "*** Saved checkpoint checkpoints/rnn.pt at epoch 24\n",
      "ACT I.  \n",
      "                                                               Exeunt\n",
      "\n",
      "SCENE II.\n",
      "Elsinore. \n",
      "--- EPOCH 25/50 ---\n",
      "train_batch (Avg. Loss 1.074, Accuracy 66.2): 100%|██████████| 228/228 [14:00<00:00,  3.68s/it]\n",
      "test_batch (Avg. Loss 1.452, Accuracy 56.7): 100%|██████████| 25/25 [00:17<00:00,  1.41it/s]\n",
      "*** Saved checkpoint checkpoints/rnn.pt at epoch 25\n",
      "ACT I. The crown was more\n",
      "     before the King there be a thousand man, that I am a\n",
      "    mistress of \n",
      "--- EPOCH 26/50 ---\n",
      "train_batch (Avg. Loss 1.074, Accuracy 66.2): 100%|██████████| 228/228 [13:50<00:00,  3.64s/it]\n",
      "test_batch (Avg. Loss 1.452, Accuracy 56.7): 100%|██████████| 25/25 [00:17<00:00,  1.42it/s]\n",
      "*** Saved checkpoint checkpoints/rnn.pt at epoch 26\n",
      "ACT I.\n",
      "                                                                       Exit\n",
      "  SIR TOBY. What \n",
      "--- EPOCH 27/50 ---\n",
      "train_batch (Avg. Loss 1.074, Accuracy 66.1): 100%|██████████| 228/228 [14:42<00:00,  3.87s/it]\n",
      "test_batch (Avg. Loss 1.452, Accuracy 56.7): 100%|██████████| 25/25 [00:18<00:00,  1.38it/s]\n",
      "*** Saved checkpoint checkpoints/rnn.pt at epoch 27\n",
      "ACT I.\n",
      "     That they the use of his beard of hell,  \n",
      "     And charge you in the bastard blood of he\n",
      "--- EPOCH 28/50 ---\n",
      "train_batch (Avg. Loss 1.074, Accuracy 66.2): 100%|██████████| 228/228 [14:45<00:00,  3.88s/it]\n",
      "test_batch (Avg. Loss 1.452, Accuracy 56.7): 100%|██████████| 25/25 [00:19<00:00,  1.30it/s]\n",
      "*** Saved checkpoint checkpoints/rnn.pt at epoch 28\n",
      "ACT I.\n",
      "  Hor. The day is a man of men of state and my side,\n",
      "    unless that hand the more than thou \n",
      "--- EPOCH 29/50 ---\n",
      "train_batch (Avg. Loss 1.074, Accuracy 66.2): 100%|██████████| 228/228 [14:20<00:00,  3.77s/it]\n",
      "test_batch (Avg. Loss 1.452, Accuracy 56.7): 100%|██████████| 25/25 [00:19<00:00,  1.28it/s]\n",
      "*** Saved checkpoint checkpoints/rnn.pt at epoch 29\n",
      "ACT I.\n",
      "                                                                                          Exi\n",
      "--- EPOCH 30/50 ---\n",
      "train_batch (Avg. Loss 1.073, Accuracy 66.2): 100%|██████████| 228/228 [14:44<00:00,  3.88s/it]\n",
      "test_batch (Avg. Loss 1.452, Accuracy 56.7): 100%|██████████| 25/25 [00:19<00:00,  1.26it/s]\n",
      "Epoch 00030: reducing learning rate of group 0 to 6.2500e-07.\n",
      "ACT I.\n",
      "                                                                                             \n",
      "--- EPOCH 31/50 ---\n",
      "train_batch (Avg. Loss 1.073, Accuracy 66.2): 100%|██████████| 228/228 [14:15<00:00,  3.75s/it]\n",
      "test_batch (Avg. Loss 1.452, Accuracy 56.7): 100%|██████████| 25/25 [00:17<00:00,  1.42it/s]\n",
      "ACT I.\n",
      "                                                                                  [They stand\n",
      "--- EPOCH 32/50 ---\n",
      "train_batch (Avg. Loss 1.073, Accuracy 66.2): 100%|██████████| 228/228 [14:20<00:00,  3.77s/it]\n",
      "test_batch (Avg. Loss 1.452, Accuracy 56.7): 100%|██████████| 25/25 [00:17<00:00,  1.42it/s]\n",
      "Epoch 00032: reducing learning rate of group 0 to 3.1250e-08.\n",
      "ACT I.  \n",
      "    Heaven and a soldier be the field of thine.\n",
      "    But when thou wilt and the enemy which \n",
      "--- EPOCH 33/50 ---\n",
      "train_batch (Avg. Loss 1.073, Accuracy 66.2): 100%|██████████| 228/228 [13:31<00:00,  3.56s/it]\n",
      "test_batch (Avg. Loss 1.452, Accuracy 56.7): 100%|██████████| 25/25 [00:17<00:00,  1.43it/s]\n",
      "ACT I.\n",
      "                                                                                             \n",
      "--- EPOCH 34/50 ---\n",
      "train_batch (Avg. Loss 1.073, Accuracy 66.2): 100%|██████████| 228/228 [13:21<00:00,  3.52s/it]\n",
      "test_batch (Avg. Loss 1.452, Accuracy 56.7): 100%|██████████| 25/25 [00:17<00:00,  1.45it/s]\n",
      "Epoch 00034: reducing learning rate of group 0 to 1.5625e-09.\n",
      "ACT I.\n",
      "                                                                              Exeunt.\n",
      "\n",
      "Scene \n",
      "--- EPOCH 35/50 ---\n",
      "train_batch (Avg. Loss 1.073, Accuracy 66.2): 100%|██████████| 228/228 [13:59<00:00,  3.68s/it]\n",
      "test_batch (Avg. Loss 1.452, Accuracy 56.7): 100%|██████████| 25/25 [00:17<00:00,  1.43it/s]\n"
     ]
    },
    {
     "data": {
      "image/png": "[encoded data removed]",
      "text/plain": [
       "<Figure size 1152x720 with 4 Axes>"
      ]
     },
     "metadata": {
      "needs_background": "light"
     },
     "output_type": "display_data"
    }
   ],
   "source": [
    "from cs236781.plot import plot_fit\n",
    "\n",
    "def post_epoch_fn(epoch, train_res, test_res, verbose):\n",
    "    # Update learning rate\n",
    "    scheduler.step(test_res.accuracy)\n",
    "    # Sample from model to show progress\n",
    "    if verbose:\n",
    "        start_seq = \"ACT I.\"\n",
    "        generated_sequence = charnn.generate_from_model(\n",
    "            model, start_seq, 100, (char_to_idx,idx_to_char), T=0.5\n",
    "        )\n",
    "        print(generated_sequence)\n",
    "\n",
    "# Train, unless final checkpoint is found\n",
    "checkpoint_file_final = f'{checkpoint_file}_final.pt'\n",
    "if os.path.isfile(checkpoint_file_final):\n",
    "    print(f'*** Loading final checkpoint file {checkpoint_file_final} instead of training')\n",
    "    saved_state = torch.load(checkpoint_file_final, map_location=device)\n",
    "    model.load_state_dict(saved_state['model_state'])\n",
    "else:\n",
    "    try:\n",
    "        # Print pre-training sampling\n",
    "        print(charnn.generate_from_model(model, \"ACT I.\", 100, (char_to_idx,idx_to_char), T=0.5))\n",
    "\n",
    "        fit_res = trainer.fit(dl_train, dl_test, num_epochs, max_batches=None,\n",
    "                              post_epoch_fn=post_epoch_fn, early_stopping=early_stopping,\n",
    "                              checkpoints=checkpoint_file, print_every=1)\n",
    "\n",
    "        fig, axes = plot_fit(fit_res)\n",
    "    except KeyboardInterrupt as e:\n",
    "        print('\\n *** Training interrupted by user')"
   ]
  },
  {
   "cell_type": "markdown",
   "metadata": {
    "id": "KeyNyGkEk1ij"
   },
   "source": [
    "### Generating a work of art\n",
    "<a id=part1_8></a>"
   ]
  },
  {
   "cell_type": "markdown",
   "metadata": {
    "id": "4LOec26Kk1ij"
   },
   "source": [
    "Armed with our fully trained model, let's generate the next Hamlet! You should experiment with modifying the sampling temperature and see what happens.\n",
    "\n",
    "The text you generate should “look” like a Shakespeare play:\n",
    "old-style English words and sentence structure, directions for the actors\n",
    "(like “Exit/Enter”), sections (Act I/Scene III) etc.\n",
    "There will be no coherent plot of course, but it should at least seem like\n",
    "a Shakespearean play when not looking too closely.\n",
    "If this is not what you see, go back, debug and/or and re-train.\n",
    "\n",
    "**TODO**: Specify the generation parameters in the `part1_generation_params()` function within the `hw3/answers.py` module."
   ]
  },
  {
   "cell_type": "code",
   "execution_count": 26,
   "metadata": {
    "colab": {
     "base_uri": "https://localhost:8080/",
     "height": 348
    },
    "executionInfo": {
     "elapsed": 488,
     "status": "error",
     "timestamp": 1718921008279,
     "user": {
      "displayName": "Dror Meirovich",
      "userId": "14310987058477987674"
     },
     "user_tz": -180
    },
    "id": "sRpDH2EYk1ij",
    "outputId": "c0353fb0-30ee-434f-af27-faaef8873b3b"
   },
   "outputs": [
    {
     "name": "stdout",
     "output_type": "stream",
     "text": [
      "When she was just a girlip\n",
      "    And so may be the rest of the letter than\n",
      "    The present thunder of my life and show,\n",
      "    Which is the truth of the boy and the commonweal,\n",
      "    Which ever I do grace the world to tell.\n",
      "    Therefore, I will not live in faction of his power,\n",
      "    And yet it goes upon the thing that thought\n",
      "    With wine, which breath'd at the wars of this thee.\n",
      "    Heaven be the manner of the King's daughter.\n",
      "    The mighty counsel that I have no trick\n",
      "    When he hath strongly dispatch'd the strangers,\n",
      "    And so far were not furnish'd and sent forth\n",
      "    To be as full of expectation and most\n",
      "    Will seem to the world in this charm of this.\n",
      "    Therefore the gods love him at the heavens may.\n",
      "    Go, read it on the first and that the forest\n",
      "    To be a barren of the blush for sorrow,\n",
      "    And with my brother Henry Pandarus and heaven,\n",
      "    From the reverend tribunes of the Duke.\n",
      "    He should be false, to make the consent of flattery\n",
      "    In the first of her weeping.\n",
      "    Good lords, the great ancestors of the christens\n",
      "    And drink with thee, the rest of the world is but\n",
      "    As they could not be as more than a charge\n",
      "    With her that comes not from me to an end,\n",
      "    But let the sea and contrary as all\n",
      "    The same of the devil's heart in heaven with him;\n",
      "    And therefore let the summer servants of his\n",
      "    Mans to the people, and the which but of her love\n",
      "    Wherein they shall not be a thousand times\n",
      "    That remov'd the removed from the valuath\n",
      "    To the sea-song of his brother. So I do not,\n",
      "    And thou shalt see the face of her high sorrow\n",
      "    To be a little state and heart that shall endure\n",
      "    Be whipt it with me that knows not to all\n",
      "    The state shall see thou hast leaves the single part.\n",
      "    The strip hath sent me to the best of it.\n",
      "    I take the time to see the world. Come on,\n",
      "    That he is now a conscience to the gates\n",
      "    Of this light with a brother to Venetian;\n",
      "    The wind of fear hath concern'd the beasts\n",
      "    That seems the constant than thy sons of heaven,\n",
      "    And I will say they shall have no window discontent.\n",
      "    The father of the seas hath all the seas.\n",
      "    Then we will do with the common steed of war,\n",
      "    And she is fair and safety of the bed;\n",
      "    And so am I not so far with thy side.\n",
      "  BASTARD. So that the house of March and a stranger for him.\n",
      "    My lord, I say, sir, I say that I will see\n",
      "    The man that would not be so much as fast,\n",
      "    And that I may at home for her lips, and\n",
      "    I have with the more a son and true delay.\n",
      "    Thou art a prince of heaven, and to the fire\n",
      "    Which thou hast not done of the world's reason.\n",
      "    I am a man in the least of the sea.\n",
      "    The Duke of Suffolk shall not be a dog,\n",
      "    And then the ground, and hear me lamentable.\n",
      "    I shall not see him charge the pains of heart that he may\n",
      "    depart to the world in the world that the truth shall be\n",
      "     of my son. Give me the matter that I were a fool.\n",
      "                                                                                 Exeunt\n",
      "\n",
      "SCENE III.\n",
      "The DUKE'S palace\n",
      "\n",
      "Enter CLOTEN and EVANS\n",
      "\n",
      "  THERSITES. I will be call'd the man in my foot and honours;\n",
      "    For the great sea of death is so with them from her\n",
      "    That should be seen the rich and so much more\n",
      "    This man of our contract, and the loss of men\n",
      "    To know the King his story of all men shall strength,\n",
      "    To hear the streets of all the deer of heaven,\n",
      "    The priests of his fortunes of such sports;\n",
      "    The truth of the sun of a bloody tears\n",
      "    And speak with no more than the son of France.\n",
      "    Where great Antony and his life deserves!\n",
      "    What was thou hast deceiv'd the world that does\n",
      "    Have all the fair resolution of the common,\n",
      "    The most hundred soldiers that I should speak\n",
      "    Where the moon will do the world and faith,\n",
      "    Who like a season'd house with all the state,\n",
      "    And to the which I have a story but one,\n",
      "    Who wakes his brother Mowbray, the realms of his\n",
      "    To hear the first that would resolve us to them.\n",
      "                                                                                   [They follow.\n",
      "                                                                     Exit\n",
      "  PANDARUS. Is there not said in the morning that with our remedy; we'll be thus\n",
      "    that he would have left thee to any man that hath been a great constant to\n",
      "    the sun and starts his tale. I will not see the stream of fire to me\n",
      "    to make a time after the very prophet. I will transform the devil.\n",
      "    Well, sir, I will have him for the cause.\n",
      "  PAROLLES. I shall be not four order.\n",
      "  SECOND LORD. He is a plain world with the which you do so in the\n",
      "    court, that his worship than the next devil and the commons of the\n",
      "    commons of my lord, which are the one in place and bloody fair loves\n",
      "    and make me to a story of the street of the villainous body of the\n",
      "    tree and for your name, and boast the deep memory of the best of\n",
      "    the streets of our country; the Duke of Norfolk, and the fair son\n",
      "    and the shrouds of the very prophecious army but a lover, so\n",
      "    such a soldier. There is no more than he does do it.\n",
      "  Beat. Where is the court?\n",
      "  Prince. O villain! and the lady are the matter of the self?\n",
      "                                                                                 Exit PAROLLES\n",
      "  HELENA. The man was that the feast of thy son\n",
      "    By heaven be held to be repeal'd and leave\n",
      "    That he hath purposed by the world of me.\n",
      "    My heart is strangely to her fat and blood,\n",
      "    And with the virtue of the death of men,\n",
      "    And by the midst the best and deceits of love.\n",
      "    We have not the unto the world are so.\n",
      "    What would he be rememb'red with the right,\n",
      "    Thou hast done to offend at such a father,\n",
      "    To the man we come to thee a letter from me.\n",
      "    Who does me not the state of men did prove,\n",
      "    That they are too servited, or slow his friends,\n",
      "    Which honour the death of his army both  \n",
      "    That lov'd the dead hour of such a very grace\n",
      "    That last the world is sharped to the world.\n",
      "    And how my true man is to me and be so?\n",
      "    Death and sorrow shall be still and scorn,\n",
      "    Who in the moon, which in my love will know\n",
      "    And hath the greatest power of the field\n",
      "    The sun that we may be reveng'd and said\n",
      "    Where they have been as lines and strange false,\n",
      "    And then are thus we are at the first crown.\n",
      "    Who should be married to the plain old sake;\n",
      "    The devil dost thou not be that might have well?\n",
      "    She shall prove a reverend water than I\n",
      "    As well the prisoner of the time of thine,\n",
      "    And the report of the first proclamation\n",
      "    Is something now to break a chaste of thee.\n",
      "    And therefore, sir, that mean this strange traitor and the\n",
      "        measure of the air.\n",
      "  Jul. It is a secret young servant, and be drawn,\n",
      "    But when I have not so worthy so well.\n",
      "    From all the glory of the harlots of my soul,\n",
      "    And in the lady of the world look on.\n",
      "    Away with the castle of my services;\n",
      "    And therefore shall this beauty know the people?\n",
      "    Where is my father? What think you?\n",
      "  BRABANTIO.                                                              Exeunt\n",
      "\n",
      "                                              SCENE 4.\n",
      "\n",
      "                                       Enter FALSTAFF\n",
      "\n",
      "  MARGARET. And so confine me to the state of York.\n",
      "    By my troth, I am so forc'd to a man.\n",
      "    I will go with me, and then the parts of man,\n",
      "    I cannot tell thee for thy dear forward,\n",
      "    And with the shadow of the streets of heaven,\n",
      "    Shall we say the presence of the world is past,\n",
      "    And he shall prove them through the master with him;\n",
      "    The law they say 'Now the Duke of York shall be so?\n",
      "    So pardon me in that pound at himself,\n",
      "    And the love the sun hath been as fast as thou\n",
      "    Answer it to the conscience, that they say he\n",
      "    Which the head of his sword on her son in sea,\n",
      "    The Lord Hastings, that thou hast deceiv'd,\n",
      "    And thou the world of this better witness,\n",
      "    They should be coming to the morning throw\n",
      "    That he was born and still in't.\n",
      "  MARCIUS. I pray you.\n",
      "  PROTEUS. What a lady does say more?\n",
      "  PORTIA. Then I say the truth.  \n",
      "  ANTONY. My lord, I pray you, good my lord.\n",
      "    I will not be a happy man's peace.\n",
      "    Be what I love thee but the or fortune of you.\n",
      "    The house of Athens please your Highness' plees;\n",
      "    And therefore serve not this and the noble friends;\n",
      "    And what has he handsome than the world begin?\n",
      "    Therefore, as I thank thee, Lucius, where there,\n",
      "    Who let the world look on our will desire\n",
      "    The wind of the world and their manners but\n",
      "    That breaks all our watch'd cheeks in heaven and hers,\n",
      "    And stay at nothing, and his hand of white,\n",
      "    That every thing is but a state of love.\n",
      "    The truth of this beard and spite of my face,\n",
      "    Whose holy truth are more than the streets and honour\n",
      "    That all the world as the Duke of Caesar.\n",
      "    The people of the master of the lords,\n",
      "    And where a witch in the paper of his love\n",
      "    That should be gone. O, he shall be thine eyes\n",
      "    That he hath a prouder of the forest bones,\n",
      "    When the first seems that will be the sure of charge\n",
      "    And first soul such a fool and most mad indeed,\n",
      "    And set the best of his wife's long bear\n",
      "    To lose the laws, and do their mouth in this,\n",
      "    Where 'tis to see me to my lord to shame,\n",
      "    To die as distracted with a band of ground,\n",
      "    And with the present pity of a court\n",
      "    Will not be so so much of poison.\n",
      "    Are you not like a present thing to fly.\n",
      "    This is the slave of palace, and he hath amazed\n",
      "    To live to seek a death of this the fire,\n",
      "    And then I cannot but as a word to down,\n",
      "    And make him see the common poisons of my sword.            Exeunt\n",
      "\n",
      "SCENE II.\n",
      "A worse. The KING, CATESBY, and Attendants.\n",
      "\n",
      "Enter Lady Macbeth and Cassius.\n",
      "\n",
      "  Fal. And there the gods be gone!\n",
      "  EVANS. It is not for that the father with it for myself.\n",
      "  ELBOW. And thou art so far of our country; there is no more respect in one soldiers of\n",
      "    the field, and fall of more than the whole hand and some of him, and so\n",
      "\n"
     ]
    }
   ],
   "source": [
    "from hw3.answers import part1_generation_params\n",
    "\n",
    "start_seq, temperature = part1_generation_params()\n",
    "\n",
    "generated_sequence = charnn.generate_from_model(\n",
    "    model, start_seq, 10000, (char_to_idx,idx_to_char), T=temperature\n",
    ")\n",
    "\n",
    "print(generated_sequence)"
   ]
  },
  {
   "cell_type": "markdown",
   "metadata": {
    "id": "FqZ_xYs8k1ij"
   },
   "source": [
    "## Questions\n",
    "<a id=part1_9></a>"
   ]
  },
  {
   "cell_type": "markdown",
   "metadata": {
    "id": "Wwtegk0uk1ij"
   },
   "source": [
    "**TODO** Answer the following questions. Write your answers in the appropriate variables in the module `hw3/answers.py`."
   ]
  },
  {
   "cell_type": "code",
   "execution_count": 7,
   "metadata": {
    "executionInfo": {
     "elapsed": 1148,
     "status": "ok",
     "timestamp": 1718921015818,
     "user": {
      "displayName": "Dror Meirovich",
      "userId": "14310987058477987674"
     },
     "user_tz": -180
    },
    "id": "Or0L3gzIk1ij"
   },
   "outputs": [],
   "source": [
    "from cs236781.answers import display_answer\n",
    "import hw3.answers"
   ]
  },
  {
   "cell_type": "code",
   "execution_count": 8,
   "metadata": {
    "colab": {
     "base_uri": "https://localhost:8080/",
     "height": 165
    },
    "executionInfo": {
     "elapsed": 5,
     "status": "error",
     "timestamp": 1718921290054,
     "user": {
      "displayName": "Dror Meirovich",
      "userId": "14310987058477987674"
     },
     "user_tz": -180
    },
    "id": "4gUKGuR5sFO3",
    "outputId": "d19e9343-a7fb-4a29-848d-4ade2181b3c5"
   },
   "outputs": [],
   "source": [
    "assert hw3.answers.student_name_1, \"student_name_1 is missing\"\n",
    "assert hw3.answers.student_ID_1, \"student_ID_1 is missing\""
   ]
  },
  {
   "cell_type": "markdown",
   "metadata": {
    "id": "rW7eixZpk1ik"
   },
   "source": [
    "### Question 1\n",
    "Why do we split the corpus into sequences instead of training on the whole text?"
   ]
  },
  {
   "cell_type": "code",
   "execution_count": 9,
   "metadata": {
    "colab": {
     "base_uri": "https://localhost:8080/",
     "height": 47
    },
    "executionInfo": {
     "elapsed": 479,
     "status": "ok",
     "timestamp": 1718921019600,
     "user": {
      "displayName": "Dror Meirovich",
      "userId": "14310987058477987674"
     },
     "user_tz": -180
    },
    "id": "mdwQwQDRk1ik",
    "outputId": "d47669c0-cc28-494c-eee6-02970fd801b7"
   },
   "outputs": [
    {
     "data": {
      "text/markdown": [
       "\n",
       "\n",
       "We split the corpus into smaller sequences because loading the entire text at once would use up a lot of memory, slowing down the training. By breaking it into smaller parts, we can load and process each piece one at a time, making the training faster and easier on the computer. Plus, working with smaller chunks helps the model learn better from the data.\n",
       "\n"
      ],
      "text/plain": [
       "<IPython.core.display.Markdown object>"
      ]
     },
     "metadata": {},
     "output_type": "display_data"
    }
   ],
   "source": [
    "display_answer(hw3.answers.part1_q1)"
   ]
  },
  {
   "cell_type": "markdown",
   "metadata": {
    "id": "MQuiiQ_Zk1ik"
   },
   "source": [
    "### Question 2\n",
    "How is it possible that the generated text clearly shows memory longer than the sequence length?"
   ]
  },
  {
   "cell_type": "code",
   "execution_count": 10,
   "metadata": {
    "colab": {
     "base_uri": "https://localhost:8080/",
     "height": 47
    },
    "executionInfo": {
     "elapsed": 472,
     "status": "ok",
     "timestamp": 1718921023420,
     "user": {
      "displayName": "Dror Meirovich",
      "userId": "14310987058477987674"
     },
     "user_tz": -180
    },
    "id": "NQGzhplEk1ik",
    "outputId": "24d53a6d-25f7-4f23-e3a6-8789030867bd"
   },
   "outputs": [
    {
     "data": {
      "text/markdown": [
       "\n",
       "\n",
       "The generated text can show memory longer than the sequence length because the RNN's hidden state learns how to predict the next word based on the sequence it was trained on. Even though we train it on shorter sequences, the hidden state picks up on patterns and connections across different sequences, allowing the network to remember and generalize information from the entire text.\n",
       "\n"
      ],
      "text/plain": [
       "<IPython.core.display.Markdown object>"
      ]
     },
     "metadata": {},
     "output_type": "display_data"
    }
   ],
   "source": [
    "display_answer(hw3.answers.part1_q2)"
   ]
  },
  {
   "cell_type": "markdown",
   "metadata": {
    "id": "-EyFa6Nsk1ik"
   },
   "source": [
    "### Question 3\n",
    "Why are we not shuffling the order of batches when training?"
   ]
  },
  {
   "cell_type": "code",
   "execution_count": 11,
   "metadata": {
    "colab": {
     "base_uri": "https://localhost:8080/",
     "height": 47
    },
    "executionInfo": {
     "elapsed": 3,
     "status": "ok",
     "timestamp": 1718921025800,
     "user": {
      "displayName": "Dror Meirovich",
      "userId": "14310987058477987674"
     },
     "user_tz": -180
    },
    "id": "dXV18jNtk1ik",
    "outputId": "79ae479d-1be1-417e-e43f-03c693a51177"
   },
   "outputs": [
    {
     "data": {
      "text/markdown": [
       "\n",
       "\n",
       "We don’t shuffle the order of batches during training because we want to keep the sentences in the correct order. By training in the right sequence, the model can maintain the logical flow and relationships between the sentences. This also helps the model understand the context better, leading to text generation that’s more similar to the original text.\n",
       "\n"
      ],
      "text/plain": [
       "<IPython.core.display.Markdown object>"
      ]
     },
     "metadata": {},
     "output_type": "display_data"
    }
   ],
   "source": [
    "display_answer(hw3.answers.part1_q3)"
   ]
  },
  {
   "cell_type": "markdown",
   "metadata": {
    "id": "m-twvSEvk1ik"
   },
   "source": [
    "### Question 4\n",
    "1. Why do we lower the temperature for sampling (compared to the default of $1.0$)?\n",
    "2. What happens when the temperature is very high and why?\n",
    "3. What happens when the temperature is very low and why?"
   ]
  },
  {
   "cell_type": "code",
   "execution_count": 12,
   "metadata": {
    "executionInfo": {
     "elapsed": 13,
     "status": "aborted",
     "timestamp": 1718920226069,
     "user": {
      "displayName": "Dror Meirovich",
      "userId": "14310987058477987674"
     },
     "user_tz": -180
    },
    "id": "_p-UB4NOk1ik"
   },
   "outputs": [
    {
     "data": {
      "text/markdown": [
       "\n",
       "\n",
       "1) We lower the temperature to make the model’s predictions more focused and less random. If the predictions were too random, the results would be unpredictable and not very useful.\n",
       "\n",
       "2) When the temperature is very high, the model's output becomes more random, like a uniform distribution where every option has almost the same chance of being picked. This leads to less meaningful and more chaotic text generation.\n",
       "\n",
       "3) When the temperature is very low, the model becomes very certain about its choices, picking only the options it's most confident in. This can make the text repetitive and limited, as it avoids taking risks with less likely options.\n",
       "\n"
      ],
      "text/plain": [
       "<IPython.core.display.Markdown object>"
      ]
     },
     "metadata": {},
     "output_type": "display_data"
    }
   ],
   "source": [
    "display_answer(hw3.answers.part1_q4)"
   ]
  },
  {
   "cell_type": "code",
   "execution_count": null,
   "metadata": {},
   "outputs": [],
   "source": []
  }
 ],
 "metadata": {
  "accelerator": "GPU",
  "colab": {
   "gpuType": "T4",
   "provenance": []
  },
  "kernelspec": {
   "display_name": "Python 3 (ipykernel)",
   "language": "python",
   "name": "python3"
  },
  "language_info": {
   "codemirror_mode": {
    "name": "ipython",
    "version": 3
   },
   "file_extension": ".py",
   "mimetype": "text/x-python",
   "name": "python",
   "nbconvert_exporter": "python",
   "pygments_lexer": "ipython3",
   "version": "3.9.12"
  }
 },
 "nbformat": 4,
 "nbformat_minor": 1
}
